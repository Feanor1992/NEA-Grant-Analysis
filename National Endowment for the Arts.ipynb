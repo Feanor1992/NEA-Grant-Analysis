{
 "cells": [
  {
   "cell_type": "markdown",
   "id": "db8bed1f-2407-47f5-9c1a-1c4018c307ba",
   "metadata": {},
   "source": [
    "# National Endowment for the Arts #"
   ]
  },
  {
   "cell_type": "markdown",
   "id": "191a3c6a-5e44-403e-bfc4-1b31b9bd58e3",
   "metadata": {},
   "source": [
    "## Code Overview ##\n",
    "1. **Importing Libraries and Loading Data**\n",
    "    - ***Libraries:*** The code utilizes several libraries:\n",
    "        - `pandas`: For data manipulation and cleaning.\n",
    "        - `plotly.express`: For creating interactive visualizations.\n",
    "        - `dash`: For building an interactive web application.\n",
    "        - `dash_ag_grid`: For creating an interactive table grid.\n",
    "        - `geopy`: For geocoding to convert hometown names to geographic coordinates.\n",
    "    - ***Data Loading:*** The dataset is loaded from a CSV file (`Post45_NEAData_Final.csv`) into a Pandas DataFrame (`df`).\n",
    "2. **Data Cleaning and Transformation**\n",
    "    - ***Handling Missing Values:*** The dataset is cleaned by filling missing values:\n",
    "        - `birth_year`: Filled with the median birth year.\n",
    "        - `state` and `hometown`: Filled with the string 'Unknown'.\n",
    "    - ***Feature Creation:***\n",
    "        - A new column, `age of writer`, is created by subtracting the birth year from the year the grant was awarded.\n",
    "        - The `age_group` column categorizes writers into age groups based on their age at the time of the grant.\n",
    "    - ***State and Hometown Analysis:***\n",
    "        - The count of grants by state is calculated and stored in `grants_by_state`.\n",
    "        - The count of writers by hometown is calculated and stored in `writers_by_hometown`.\n",
    "    - ***Geocoding Hometowns:*** The `geopy` library is used to add `latitude` and `longitude` data for each writer's hometown, enabling map visualization of hometowns.\n",
    "    - ***University Count:*** A new feature, `university_count`, is created, indicating the number of universities each writer attended based on various columns.\n",
    "3. **Exploratory Data Analysis (EDA)**\n",
    "    - ***Grants by State and Hometown:***\n",
    "        - The `grants_by_state` DataFrame counts the number of grants awarded by U.S. state.\n",
    "        - The `writers_by_hometown` DataFrame counts the number of writers from each hometown.\n",
    "    - ***Grants and Writers by Year:*** The total count of grants per year is calculated and stored in `grants_per_year`.\n",
    "    - ***University Count Analysis:*** The dataset is analyzed for the relationship between the number of universities a writer attended and the number of grants awarded.\n",
    "4. **Data Visualization**\n",
    "    - ***Writer Age Distribution:*** A histogram visualizes the distribution of writers' ages at the time of the grant, colored by age group.\n",
    "    - ***Age Group Distribution:*** A pie chart visualizes the distribution of writers across different age groups.\n",
    "    - ***University Count Distribution:*** A histogram is created to show the distribution of the number of universities attended by writers.\n",
    "    - ***University Count vs. Grant Count:*** A bar chart is created to visualize the relationship between the number of universities attended and the number of grants awarded.\n",
    "    - ***Grants by State:*** A choropleth map visualizes the number of grants awarded by state, with colors representing grant count.\n",
    "    - ***Writers by Hometown (Bar Chart):*** A bar chart shows the top 10 hometowns based on writer count.\n",
    "    - ***Writers by Hometown (Map):*** A scatter map visualizes the geographical distribution of writers' hometowns.\n",
    "    - ***Grants per Year:*** A line chart visualizes the trend of grant counts over time.\n",
    "5. **Dashboard Creation with Dash**\n",
    "    - ***Interactive Grid:** A data grid is created using `dash_ag_grid` to display the dataset interactively, allowing pagination.\n",
    "    - ***Interactive Visualizations:*** Several graphs are created using `dcc.Graph`, representing the visualizations mentioned above.\n",
    "    - ***App Layout:*** The Dash app layout includes the data grid and all the visualizations, enabling users to explore the data dynamically through a web-based interface.\n",
    "    - ***Running the App:*** The Dash app is set to run in debug mode, serving the interactive dashboard to the user through a local web server."
   ]
  },
  {
   "cell_type": "markdown",
   "id": "77c1cb66-0542-48db-8ede-250f3fed7769",
   "metadata": {},
   "source": [
    "### 1. Import libraries ###"
   ]
  },
  {
   "cell_type": "code",
   "execution_count": 2,
   "id": "0a0b4f5f-6bfd-48e4-9f0e-dad429cca731",
   "metadata": {
    "scrolled": true
   },
   "outputs": [
    {
     "name": "stdout",
     "output_type": "stream",
     "text": [
      "Collecting dash_ag_grid\n",
      "  Downloading dash_ag_grid-31.3.0-py3-none-any.whl.metadata (5.4 kB)\n",
      "Requirement already satisfied: dash>=2 in c:\\users\\olcha\\anaconda3\\lib\\site-packages (from dash_ag_grid) (2.18.2)\n",
      "Requirement already satisfied: Flask<3.1,>=1.0.4 in c:\\users\\olcha\\anaconda3\\lib\\site-packages (from dash>=2->dash_ag_grid) (3.0.3)\n",
      "Requirement already satisfied: Werkzeug<3.1 in c:\\users\\olcha\\anaconda3\\lib\\site-packages (from dash>=2->dash_ag_grid) (3.0.3)\n",
      "Requirement already satisfied: plotly>=5.0.0 in c:\\users\\olcha\\anaconda3\\lib\\site-packages (from dash>=2->dash_ag_grid) (5.24.1)\n",
      "Requirement already satisfied: dash-html-components==2.0.0 in c:\\users\\olcha\\anaconda3\\lib\\site-packages (from dash>=2->dash_ag_grid) (2.0.0)\n",
      "Requirement already satisfied: dash-core-components==2.0.0 in c:\\users\\olcha\\anaconda3\\lib\\site-packages (from dash>=2->dash_ag_grid) (2.0.0)\n",
      "Requirement already satisfied: dash-table==5.0.0 in c:\\users\\olcha\\anaconda3\\lib\\site-packages (from dash>=2->dash_ag_grid) (5.0.0)\n",
      "Requirement already satisfied: importlib-metadata in c:\\users\\olcha\\anaconda3\\lib\\site-packages (from dash>=2->dash_ag_grid) (7.0.1)\n",
      "Requirement already satisfied: typing-extensions>=4.1.1 in c:\\users\\olcha\\anaconda3\\lib\\site-packages (from dash>=2->dash_ag_grid) (4.11.0)\n",
      "Requirement already satisfied: requests in c:\\users\\olcha\\anaconda3\\lib\\site-packages (from dash>=2->dash_ag_grid) (2.32.3)\n",
      "Requirement already satisfied: retrying in c:\\users\\olcha\\anaconda3\\lib\\site-packages (from dash>=2->dash_ag_grid) (1.3.4)\n",
      "Requirement already satisfied: nest-asyncio in c:\\users\\olcha\\anaconda3\\lib\\site-packages (from dash>=2->dash_ag_grid) (1.6.0)\n",
      "Requirement already satisfied: setuptools in c:\\users\\olcha\\anaconda3\\lib\\site-packages (from dash>=2->dash_ag_grid) (75.1.0)\n",
      "Requirement already satisfied: Jinja2>=3.1.2 in c:\\users\\olcha\\anaconda3\\lib\\site-packages (from Flask<3.1,>=1.0.4->dash>=2->dash_ag_grid) (3.1.4)\n",
      "Requirement already satisfied: itsdangerous>=2.1.2 in c:\\users\\olcha\\anaconda3\\lib\\site-packages (from Flask<3.1,>=1.0.4->dash>=2->dash_ag_grid) (2.2.0)\n",
      "Requirement already satisfied: click>=8.1.3 in c:\\users\\olcha\\anaconda3\\lib\\site-packages (from Flask<3.1,>=1.0.4->dash>=2->dash_ag_grid) (8.1.7)\n",
      "Requirement already satisfied: blinker>=1.6.2 in c:\\users\\olcha\\anaconda3\\lib\\site-packages (from Flask<3.1,>=1.0.4->dash>=2->dash_ag_grid) (1.6.2)\n",
      "Requirement already satisfied: tenacity>=6.2.0 in c:\\users\\olcha\\anaconda3\\lib\\site-packages (from plotly>=5.0.0->dash>=2->dash_ag_grid) (8.2.3)\n",
      "Requirement already satisfied: packaging in c:\\users\\olcha\\anaconda3\\lib\\site-packages (from plotly>=5.0.0->dash>=2->dash_ag_grid) (24.1)\n",
      "Requirement already satisfied: MarkupSafe>=2.1.1 in c:\\users\\olcha\\anaconda3\\lib\\site-packages (from Werkzeug<3.1->dash>=2->dash_ag_grid) (2.1.3)\n",
      "Requirement already satisfied: zipp>=0.5 in c:\\users\\olcha\\anaconda3\\lib\\site-packages (from importlib-metadata->dash>=2->dash_ag_grid) (3.17.0)\n",
      "Requirement already satisfied: charset-normalizer<4,>=2 in c:\\users\\olcha\\anaconda3\\lib\\site-packages (from requests->dash>=2->dash_ag_grid) (3.3.2)\n",
      "Requirement already satisfied: idna<4,>=2.5 in c:\\users\\olcha\\anaconda3\\lib\\site-packages (from requests->dash>=2->dash_ag_grid) (3.7)\n",
      "Requirement already satisfied: urllib3<3,>=1.21.1 in c:\\users\\olcha\\anaconda3\\lib\\site-packages (from requests->dash>=2->dash_ag_grid) (2.2.3)\n",
      "Requirement already satisfied: certifi>=2017.4.17 in c:\\users\\olcha\\anaconda3\\lib\\site-packages (from requests->dash>=2->dash_ag_grid) (2024.12.14)\n",
      "Requirement already satisfied: six>=1.7.0 in c:\\users\\olcha\\anaconda3\\lib\\site-packages (from retrying->dash>=2->dash_ag_grid) (1.16.0)\n",
      "Requirement already satisfied: colorama in c:\\users\\olcha\\anaconda3\\lib\\site-packages (from click>=8.1.3->Flask<3.1,>=1.0.4->dash>=2->dash_ag_grid) (0.4.6)\n",
      "Downloading dash_ag_grid-31.3.0-py3-none-any.whl (3.9 MB)\n",
      "   ---------------------------------------- 0.0/3.9 MB ? eta -:--:--\n",
      "   ---------------------------------------- 0.0/3.9 MB ? eta -:--:--\n",
      "   ----- ---------------------------------- 0.5/3.9 MB 3.4 MB/s eta 0:00:01\n",
      "   ------------------ --------------------- 1.8/3.9 MB 5.3 MB/s eta 0:00:01\n",
      "   ----------------------------- ---------- 2.9/3.9 MB 5.6 MB/s eta 0:00:01\n",
      "   ---------------------------------------- 3.9/3.9 MB 5.5 MB/s eta 0:00:00\n",
      "Installing collected packages: dash_ag_grid\n",
      "Successfully installed dash_ag_grid-31.3.0\n",
      "Note: you may need to restart the kernel to use updated packages.\n"
     ]
    }
   ],
   "source": [
    "pip install dash_ag_grid"
   ]
  },
  {
   "cell_type": "code",
   "execution_count": 1,
   "id": "8d96f75c-ee4c-44e5-9e9b-0a90dcfb7edb",
   "metadata": {},
   "outputs": [],
   "source": [
    "import pandas as pd\n",
    "import plotly.express as px\n",
    "from dash import Dash, dcc, html\n",
    "import dash_ag_grid as dag\n",
    "from geopy.geocoders import Nominatim\n",
    "from geopy.extra.rate_limiter import RateLimiter"
   ]
  },
  {
   "cell_type": "markdown",
   "id": "f143cf45-1af2-441c-9b7b-32e1ead2a778",
   "metadata": {},
   "source": [
    "### 2. Load and clean dataset ###"
   ]
  },
  {
   "cell_type": "code",
   "execution_count": 2,
   "id": "a4f64952-5c1b-40f1-a97b-125045322569",
   "metadata": {},
   "outputs": [
    {
     "data": {
      "text/html": [
       "<div>\n",
       "<style scoped>\n",
       "    .dataframe tbody tr th:only-of-type {\n",
       "        vertical-align: middle;\n",
       "    }\n",
       "\n",
       "    .dataframe tbody tr th {\n",
       "        vertical-align: top;\n",
       "    }\n",
       "\n",
       "    .dataframe thead th {\n",
       "        text-align: right;\n",
       "    }\n",
       "</style>\n",
       "<table border=\"1\" class=\"dataframe\">\n",
       "  <thead>\n",
       "    <tr style=\"text-align: right;\">\n",
       "      <th></th>\n",
       "      <th>nea_person_id</th>\n",
       "      <th>full_name_lastfirst</th>\n",
       "      <th>full_name_firstlast</th>\n",
       "      <th>given_name_middle</th>\n",
       "      <th>family_name</th>\n",
       "      <th>nea_grant_year</th>\n",
       "      <th>other_nea_grant</th>\n",
       "      <th>country</th>\n",
       "      <th>us_state</th>\n",
       "      <th>hometown</th>\n",
       "      <th>...</th>\n",
       "      <th>gender</th>\n",
       "      <th>race_ethnicity</th>\n",
       "      <th>ba</th>\n",
       "      <th>ba2</th>\n",
       "      <th>ma</th>\n",
       "      <th>ma2</th>\n",
       "      <th>phd</th>\n",
       "      <th>mfa</th>\n",
       "      <th>mfa2</th>\n",
       "      <th>post45_hathi_entry</th>\n",
       "    </tr>\n",
       "  </thead>\n",
       "  <tbody>\n",
       "    <tr>\n",
       "      <th>0</th>\n",
       "      <td>19</td>\n",
       "      <td>Adams, Leonie</td>\n",
       "      <td>Leonie Adams</td>\n",
       "      <td>Leonie</td>\n",
       "      <td>Adams</td>\n",
       "      <td>1966</td>\n",
       "      <td>NaN</td>\n",
       "      <td>USA</td>\n",
       "      <td>NY</td>\n",
       "      <td>New York</td>\n",
       "      <td>...</td>\n",
       "      <td>female</td>\n",
       "      <td>uniden</td>\n",
       "      <td>Barnard College</td>\n",
       "      <td>NaN</td>\n",
       "      <td>NaN</td>\n",
       "      <td>NaN</td>\n",
       "      <td>NaN</td>\n",
       "      <td>NaN</td>\n",
       "      <td>NaN</td>\n",
       "      <td>NaN</td>\n",
       "    </tr>\n",
       "    <tr>\n",
       "      <th>1</th>\n",
       "      <td>177</td>\n",
       "      <td>Belitt, Ben</td>\n",
       "      <td>Ben Belitt</td>\n",
       "      <td>Ben</td>\n",
       "      <td>Belitt</td>\n",
       "      <td>1966</td>\n",
       "      <td>NaN</td>\n",
       "      <td>USA</td>\n",
       "      <td>VT</td>\n",
       "      <td>Bennington</td>\n",
       "      <td>...</td>\n",
       "      <td>male</td>\n",
       "      <td>uniden</td>\n",
       "      <td>University of Virginia</td>\n",
       "      <td>NaN</td>\n",
       "      <td>University of Virginia</td>\n",
       "      <td>NaN</td>\n",
       "      <td>NaN</td>\n",
       "      <td>NaN</td>\n",
       "      <td>NaN</td>\n",
       "      <td>NaN</td>\n",
       "    </tr>\n",
       "    <tr>\n",
       "      <th>2</th>\n",
       "      <td>235</td>\n",
       "      <td>Bird, Laurel</td>\n",
       "      <td>Laurel Bird</td>\n",
       "      <td>Laurel</td>\n",
       "      <td>Bird</td>\n",
       "      <td>1966</td>\n",
       "      <td>NaN</td>\n",
       "      <td>USA</td>\n",
       "      <td>TN</td>\n",
       "      <td>Knoxville</td>\n",
       "      <td>...</td>\n",
       "      <td>female</td>\n",
       "      <td>uniden</td>\n",
       "      <td>NaN</td>\n",
       "      <td>NaN</td>\n",
       "      <td>NaN</td>\n",
       "      <td>NaN</td>\n",
       "      <td>NaN</td>\n",
       "      <td>NaN</td>\n",
       "      <td>NaN</td>\n",
       "      <td>NaN</td>\n",
       "    </tr>\n",
       "    <tr>\n",
       "      <th>3</th>\n",
       "      <td>282</td>\n",
       "      <td>Bourjaily, Vance</td>\n",
       "      <td>Vance Bourjaily</td>\n",
       "      <td>Vance</td>\n",
       "      <td>Bourjaily</td>\n",
       "      <td>1966</td>\n",
       "      <td>1979</td>\n",
       "      <td>USA</td>\n",
       "      <td>IA</td>\n",
       "      <td>Iowa City</td>\n",
       "      <td>...</td>\n",
       "      <td>male</td>\n",
       "      <td>uniden</td>\n",
       "      <td>Bowdoin College</td>\n",
       "      <td>NaN</td>\n",
       "      <td>NaN</td>\n",
       "      <td>NaN</td>\n",
       "      <td>NaN</td>\n",
       "      <td>NaN</td>\n",
       "      <td>NaN</td>\n",
       "      <td>NaN</td>\n",
       "    </tr>\n",
       "    <tr>\n",
       "      <th>4</th>\n",
       "      <td>303</td>\n",
       "      <td>Brasfield, Samuel</td>\n",
       "      <td>Samuel Brasfield</td>\n",
       "      <td>Samuel</td>\n",
       "      <td>Brasfield</td>\n",
       "      <td>1966</td>\n",
       "      <td>NaN</td>\n",
       "      <td>USA</td>\n",
       "      <td>AL</td>\n",
       "      <td>Demopolis</td>\n",
       "      <td>...</td>\n",
       "      <td>male</td>\n",
       "      <td>uniden</td>\n",
       "      <td>NaN</td>\n",
       "      <td>NaN</td>\n",
       "      <td>NaN</td>\n",
       "      <td>NaN</td>\n",
       "      <td>NaN</td>\n",
       "      <td>NaN</td>\n",
       "      <td>NaN</td>\n",
       "      <td>NaN</td>\n",
       "    </tr>\n",
       "    <tr>\n",
       "      <th>...</th>\n",
       "      <td>...</td>\n",
       "      <td>...</td>\n",
       "      <td>...</td>\n",
       "      <td>...</td>\n",
       "      <td>...</td>\n",
       "      <td>...</td>\n",
       "      <td>...</td>\n",
       "      <td>...</td>\n",
       "      <td>...</td>\n",
       "      <td>...</td>\n",
       "      <td>...</td>\n",
       "      <td>...</td>\n",
       "      <td>...</td>\n",
       "      <td>...</td>\n",
       "      <td>...</td>\n",
       "      <td>...</td>\n",
       "      <td>...</td>\n",
       "      <td>...</td>\n",
       "      <td>...</td>\n",
       "      <td>...</td>\n",
       "      <td>...</td>\n",
       "    </tr>\n",
       "    <tr>\n",
       "      <th>3700</th>\n",
       "      <td>3199</td>\n",
       "      <td>Sikmashvili, Darina (Dasha)</td>\n",
       "      <td>Darina (Dasha) Sikmashvili</td>\n",
       "      <td>Darina (Dasha)</td>\n",
       "      <td>Sikmashvili</td>\n",
       "      <td>2024</td>\n",
       "      <td>NaN</td>\n",
       "      <td>USA</td>\n",
       "      <td>NY</td>\n",
       "      <td>New York City</td>\n",
       "      <td>...</td>\n",
       "      <td>female</td>\n",
       "      <td>uniden / ukranianam</td>\n",
       "      <td>NaN</td>\n",
       "      <td>NaN</td>\n",
       "      <td>NaN</td>\n",
       "      <td>NaN</td>\n",
       "      <td>NaN</td>\n",
       "      <td>University of Michigan Ann Arbor</td>\n",
       "      <td>NaN</td>\n",
       "      <td>NaN</td>\n",
       "    </tr>\n",
       "    <tr>\n",
       "      <th>3701</th>\n",
       "      <td>3203</td>\n",
       "      <td>South, Mary</td>\n",
       "      <td>Mary South</td>\n",
       "      <td>Mary</td>\n",
       "      <td>South</td>\n",
       "      <td>2024</td>\n",
       "      <td>NaN</td>\n",
       "      <td>USA</td>\n",
       "      <td>NY</td>\n",
       "      <td>New York City</td>\n",
       "      <td>...</td>\n",
       "      <td>female</td>\n",
       "      <td>uniden</td>\n",
       "      <td>Northwestern University</td>\n",
       "      <td>NaN</td>\n",
       "      <td>NaN</td>\n",
       "      <td>NaN</td>\n",
       "      <td>NaN</td>\n",
       "      <td>Columbia University</td>\n",
       "      <td>NaN</td>\n",
       "      <td>NaN</td>\n",
       "    </tr>\n",
       "    <tr>\n",
       "      <th>3702</th>\n",
       "      <td>3205</td>\n",
       "      <td>Taffa, Deborah Jackson</td>\n",
       "      <td>Deborah Jackson Taffa</td>\n",
       "      <td>Deborah Jackson</td>\n",
       "      <td>Taffa</td>\n",
       "      <td>2024</td>\n",
       "      <td>NaN</td>\n",
       "      <td>USA</td>\n",
       "      <td>NM</td>\n",
       "      <td>Sante Fe</td>\n",
       "      <td>...</td>\n",
       "      <td>female</td>\n",
       "      <td>indigenous</td>\n",
       "      <td>Webster University</td>\n",
       "      <td>NaN</td>\n",
       "      <td>NaN</td>\n",
       "      <td>NaN</td>\n",
       "      <td>NaN</td>\n",
       "      <td>University of Iowa</td>\n",
       "      <td>NaN</td>\n",
       "      <td>NaN</td>\n",
       "    </tr>\n",
       "    <tr>\n",
       "      <th>3703</th>\n",
       "      <td>3209</td>\n",
       "      <td>Towers, Paige</td>\n",
       "      <td>Paige Towers</td>\n",
       "      <td>Paige</td>\n",
       "      <td>Towers</td>\n",
       "      <td>2024</td>\n",
       "      <td>NaN</td>\n",
       "      <td>USA</td>\n",
       "      <td>WA</td>\n",
       "      <td>Bellingham</td>\n",
       "      <td>...</td>\n",
       "      <td>female</td>\n",
       "      <td>uniden</td>\n",
       "      <td>University of Iowa</td>\n",
       "      <td>NaN</td>\n",
       "      <td>NaN</td>\n",
       "      <td>NaN</td>\n",
       "      <td>NaN</td>\n",
       "      <td>Emerson College</td>\n",
       "      <td>NaN</td>\n",
       "      <td>NaN</td>\n",
       "    </tr>\n",
       "    <tr>\n",
       "      <th>3704</th>\n",
       "      <td>3212</td>\n",
       "      <td>Villagra, Analía</td>\n",
       "      <td>Analía Villagra</td>\n",
       "      <td>Analía</td>\n",
       "      <td>Villagra</td>\n",
       "      <td>2024</td>\n",
       "      <td>NaN</td>\n",
       "      <td>USA</td>\n",
       "      <td>CA</td>\n",
       "      <td>Oakland</td>\n",
       "      <td>...</td>\n",
       "      <td>female</td>\n",
       "      <td>uniden</td>\n",
       "      <td>University of Chicago</td>\n",
       "      <td>NaN</td>\n",
       "      <td>NaN</td>\n",
       "      <td>NaN</td>\n",
       "      <td>City University of New York</td>\n",
       "      <td>NaN</td>\n",
       "      <td>NaN</td>\n",
       "      <td>NaN</td>\n",
       "    </tr>\n",
       "  </tbody>\n",
       "</table>\n",
       "<p>3705 rows × 21 columns</p>\n",
       "</div>"
      ],
      "text/plain": [
       "      nea_person_id          full_name_lastfirst         full_name_firstlast  \\\n",
       "0                19                Adams, Leonie                Leonie Adams   \n",
       "1               177                  Belitt, Ben                  Ben Belitt   \n",
       "2               235                 Bird, Laurel                 Laurel Bird   \n",
       "3               282             Bourjaily, Vance             Vance Bourjaily   \n",
       "4               303            Brasfield, Samuel            Samuel Brasfield   \n",
       "...             ...                          ...                         ...   \n",
       "3700           3199  Sikmashvili, Darina (Dasha)  Darina (Dasha) Sikmashvili   \n",
       "3701           3203                  South, Mary                  Mary South   \n",
       "3702           3205       Taffa, Deborah Jackson       Deborah Jackson Taffa   \n",
       "3703           3209                Towers, Paige                Paige Towers   \n",
       "3704           3212             Villagra, Analía             Analía Villagra   \n",
       "\n",
       "     given_name_middle  family_name  nea_grant_year other_nea_grant country  \\\n",
       "0               Leonie        Adams            1966             NaN     USA   \n",
       "1                  Ben       Belitt            1966             NaN     USA   \n",
       "2               Laurel         Bird            1966             NaN     USA   \n",
       "3                Vance    Bourjaily            1966            1979     USA   \n",
       "4               Samuel    Brasfield            1966             NaN     USA   \n",
       "...                ...          ...             ...             ...     ...   \n",
       "3700    Darina (Dasha)  Sikmashvili            2024             NaN     USA   \n",
       "3701              Mary        South            2024             NaN     USA   \n",
       "3702   Deborah Jackson        Taffa            2024             NaN     USA   \n",
       "3703             Paige       Towers            2024             NaN     USA   \n",
       "3704            Analía     Villagra            2024             NaN     USA   \n",
       "\n",
       "     us_state       hometown  ...  gender       race_ethnicity  \\\n",
       "0          NY       New York  ...  female               uniden   \n",
       "1          VT     Bennington  ...    male               uniden   \n",
       "2          TN      Knoxville  ...  female               uniden   \n",
       "3          IA      Iowa City  ...    male               uniden   \n",
       "4          AL      Demopolis  ...    male               uniden   \n",
       "...       ...            ...  ...     ...                  ...   \n",
       "3700       NY  New York City  ...  female  uniden / ukranianam   \n",
       "3701       NY  New York City  ...  female               uniden   \n",
       "3702       NM       Sante Fe  ...  female           indigenous   \n",
       "3703       WA     Bellingham  ...  female               uniden   \n",
       "3704       CA        Oakland  ...  female               uniden   \n",
       "\n",
       "                           ba  ba2                      ma  ma2  \\\n",
       "0             Barnard College  NaN                     NaN  NaN   \n",
       "1      University of Virginia  NaN  University of Virginia  NaN   \n",
       "2                         NaN  NaN                     NaN  NaN   \n",
       "3             Bowdoin College  NaN                     NaN  NaN   \n",
       "4                         NaN  NaN                     NaN  NaN   \n",
       "...                       ...  ...                     ...  ...   \n",
       "3700                      NaN  NaN                     NaN  NaN   \n",
       "3701  Northwestern University  NaN                     NaN  NaN   \n",
       "3702       Webster University  NaN                     NaN  NaN   \n",
       "3703       University of Iowa  NaN                     NaN  NaN   \n",
       "3704    University of Chicago  NaN                     NaN  NaN   \n",
       "\n",
       "                              phd                               mfa mfa2  \\\n",
       "0                             NaN                               NaN  NaN   \n",
       "1                             NaN                               NaN  NaN   \n",
       "2                             NaN                               NaN  NaN   \n",
       "3                             NaN                               NaN  NaN   \n",
       "4                             NaN                               NaN  NaN   \n",
       "...                           ...                               ...  ...   \n",
       "3700                          NaN  University of Michigan Ann Arbor  NaN   \n",
       "3701                          NaN               Columbia University  NaN   \n",
       "3702                          NaN                University of Iowa  NaN   \n",
       "3703                          NaN                   Emerson College  NaN   \n",
       "3704  City University of New York                               NaN  NaN   \n",
       "\n",
       "     post45_hathi_entry  \n",
       "0                   NaN  \n",
       "1                   NaN  \n",
       "2                   NaN  \n",
       "3                   NaN  \n",
       "4                   NaN  \n",
       "...                 ...  \n",
       "3700                NaN  \n",
       "3701                NaN  \n",
       "3702                NaN  \n",
       "3703                NaN  \n",
       "3704                NaN  \n",
       "\n",
       "[3705 rows x 21 columns]"
      ]
     },
     "execution_count": 2,
     "metadata": {},
     "output_type": "execute_result"
    }
   ],
   "source": [
    "df = pd.read_csv('Post45_NEAData_Final.csv')\n",
    "df"
   ]
  },
  {
   "cell_type": "code",
   "execution_count": 3,
   "id": "8d19037c-fded-4bb7-8862-6e28e09670b7",
   "metadata": {},
   "outputs": [
    {
     "name": "stdout",
     "output_type": "stream",
     "text": [
      "<class 'pandas.core.frame.DataFrame'>\n",
      "RangeIndex: 3705 entries, 0 to 3704\n",
      "Data columns (total 21 columns):\n",
      " #   Column               Non-Null Count  Dtype  \n",
      "---  ------               --------------  -----  \n",
      " 0   nea_person_id        3705 non-null   int64  \n",
      " 1   full_name_lastfirst  3705 non-null   object \n",
      " 2   full_name_firstlast  3705 non-null   object \n",
      " 3   given_name_middle    3705 non-null   object \n",
      " 4   family_name          3705 non-null   object \n",
      " 5   nea_grant_year       3705 non-null   int64  \n",
      " 6   other_nea_grant      933 non-null    object \n",
      " 7   country              3705 non-null   object \n",
      " 8   us_state             3387 non-null   object \n",
      " 9   hometown             3705 non-null   object \n",
      " 10  birth_year           2915 non-null   float64\n",
      " 11  gender               3704 non-null   object \n",
      " 12  race_ethnicity       3704 non-null   object \n",
      " 13  ba                   2973 non-null   object \n",
      " 14  ba2                  73 non-null     object \n",
      " 15  ma                   1271 non-null   object \n",
      " 16  ma2                  95 non-null     object \n",
      " 17  phd                  734 non-null    object \n",
      " 18  mfa                  1622 non-null   object \n",
      " 19  mfa2                 104 non-null    object \n",
      " 20  post45_hathi_entry   1029 non-null   object \n",
      "dtypes: float64(1), int64(2), object(18)\n",
      "memory usage: 608.0+ KB\n"
     ]
    }
   ],
   "source": [
    "df.info()"
   ]
  },
  {
   "cell_type": "markdown",
   "id": "08ade8fa-b956-4b51-8bc3-db657dc5ae81",
   "metadata": {},
   "source": [
    "### 3. Сlean dataset ###"
   ]
  },
  {
   "cell_type": "code",
   "execution_count": 4,
   "id": "fdfae10c-3ad5-429b-939f-92d890c47e16",
   "metadata": {},
   "outputs": [
    {
     "name": "stdout",
     "output_type": "stream",
     "text": [
      "<class 'pandas.core.frame.DataFrame'>\n",
      "RangeIndex: 3705 entries, 0 to 3704\n",
      "Data columns (total 21 columns):\n",
      " #   Column               Non-Null Count  Dtype  \n",
      "---  ------               --------------  -----  \n",
      " 0   nea_person_id        3705 non-null   int64  \n",
      " 1   full_name_lastfirst  3705 non-null   object \n",
      " 2   full_name_firstlast  3705 non-null   object \n",
      " 3   given_name_middle    3705 non-null   object \n",
      " 4   family_name          3705 non-null   object \n",
      " 5   nea_grant_year       3705 non-null   int64  \n",
      " 6   other_nea_grant      933 non-null    object \n",
      " 7   country              3705 non-null   object \n",
      " 8   us_state             3387 non-null   object \n",
      " 9   hometown             3705 non-null   object \n",
      " 10  birth_year           3705 non-null   float64\n",
      " 11  gender               3704 non-null   object \n",
      " 12  race_ethnicity       3704 non-null   object \n",
      " 13  ba                   2973 non-null   object \n",
      " 14  ba2                  73 non-null     object \n",
      " 15  ma                   1271 non-null   object \n",
      " 16  ma2                  95 non-null     object \n",
      " 17  phd                  734 non-null    object \n",
      " 18  mfa                  1622 non-null   object \n",
      " 19  mfa2                 104 non-null    object \n",
      " 20  post45_hathi_entry   1029 non-null   object \n",
      "dtypes: float64(1), int64(2), object(18)\n",
      "memory usage: 608.0+ KB\n"
     ]
    }
   ],
   "source": [
    "df = df.fillna({\n",
    "    'birth_year': df['birth_year'].median(),\n",
    "    'state': 'Unknown',\n",
    "    'hometown': 'Unknown'\n",
    "})\n",
    "df.info()"
   ]
  },
  {
   "cell_type": "markdown",
   "id": "db03097b-10f6-40a1-8c33-b942907edbc3",
   "metadata": {},
   "source": [
    "### 4. Analize datase ###"
   ]
  },
  {
   "cell_type": "code",
   "execution_count": 5,
   "id": "cb0b7532-7c4d-4a1e-8ad1-aa551afd15b3",
   "metadata": {},
   "outputs": [
    {
     "data": {
      "text/html": [
       "<div>\n",
       "<style scoped>\n",
       "    .dataframe tbody tr th:only-of-type {\n",
       "        vertical-align: middle;\n",
       "    }\n",
       "\n",
       "    .dataframe tbody tr th {\n",
       "        vertical-align: top;\n",
       "    }\n",
       "\n",
       "    .dataframe thead th {\n",
       "        text-align: right;\n",
       "    }\n",
       "</style>\n",
       "<table border=\"1\" class=\"dataframe\">\n",
       "  <thead>\n",
       "    <tr style=\"text-align: right;\">\n",
       "      <th></th>\n",
       "      <th>nea_person_id</th>\n",
       "      <th>full_name_lastfirst</th>\n",
       "      <th>full_name_firstlast</th>\n",
       "      <th>given_name_middle</th>\n",
       "      <th>family_name</th>\n",
       "      <th>nea_grant_year</th>\n",
       "      <th>other_nea_grant</th>\n",
       "      <th>country</th>\n",
       "      <th>us_state</th>\n",
       "      <th>hometown</th>\n",
       "      <th>...</th>\n",
       "      <th>race_ethnicity</th>\n",
       "      <th>ba</th>\n",
       "      <th>ba2</th>\n",
       "      <th>ma</th>\n",
       "      <th>ma2</th>\n",
       "      <th>phd</th>\n",
       "      <th>mfa</th>\n",
       "      <th>mfa2</th>\n",
       "      <th>post45_hathi_entry</th>\n",
       "      <th>age of writer</th>\n",
       "    </tr>\n",
       "  </thead>\n",
       "  <tbody>\n",
       "    <tr>\n",
       "      <th>0</th>\n",
       "      <td>19</td>\n",
       "      <td>Adams, Leonie</td>\n",
       "      <td>Leonie Adams</td>\n",
       "      <td>Leonie</td>\n",
       "      <td>Adams</td>\n",
       "      <td>1966</td>\n",
       "      <td>NaN</td>\n",
       "      <td>USA</td>\n",
       "      <td>NY</td>\n",
       "      <td>New York</td>\n",
       "      <td>...</td>\n",
       "      <td>uniden</td>\n",
       "      <td>Barnard College</td>\n",
       "      <td>NaN</td>\n",
       "      <td>NaN</td>\n",
       "      <td>NaN</td>\n",
       "      <td>NaN</td>\n",
       "      <td>NaN</td>\n",
       "      <td>NaN</td>\n",
       "      <td>NaN</td>\n",
       "      <td>67.0</td>\n",
       "    </tr>\n",
       "    <tr>\n",
       "      <th>1</th>\n",
       "      <td>177</td>\n",
       "      <td>Belitt, Ben</td>\n",
       "      <td>Ben Belitt</td>\n",
       "      <td>Ben</td>\n",
       "      <td>Belitt</td>\n",
       "      <td>1966</td>\n",
       "      <td>NaN</td>\n",
       "      <td>USA</td>\n",
       "      <td>VT</td>\n",
       "      <td>Bennington</td>\n",
       "      <td>...</td>\n",
       "      <td>uniden</td>\n",
       "      <td>University of Virginia</td>\n",
       "      <td>NaN</td>\n",
       "      <td>University of Virginia</td>\n",
       "      <td>NaN</td>\n",
       "      <td>NaN</td>\n",
       "      <td>NaN</td>\n",
       "      <td>NaN</td>\n",
       "      <td>NaN</td>\n",
       "      <td>55.0</td>\n",
       "    </tr>\n",
       "    <tr>\n",
       "      <th>2</th>\n",
       "      <td>235</td>\n",
       "      <td>Bird, Laurel</td>\n",
       "      <td>Laurel Bird</td>\n",
       "      <td>Laurel</td>\n",
       "      <td>Bird</td>\n",
       "      <td>1966</td>\n",
       "      <td>NaN</td>\n",
       "      <td>USA</td>\n",
       "      <td>TN</td>\n",
       "      <td>Knoxville</td>\n",
       "      <td>...</td>\n",
       "      <td>uniden</td>\n",
       "      <td>NaN</td>\n",
       "      <td>NaN</td>\n",
       "      <td>NaN</td>\n",
       "      <td>NaN</td>\n",
       "      <td>NaN</td>\n",
       "      <td>NaN</td>\n",
       "      <td>NaN</td>\n",
       "      <td>NaN</td>\n",
       "      <td>20.0</td>\n",
       "    </tr>\n",
       "    <tr>\n",
       "      <th>3</th>\n",
       "      <td>282</td>\n",
       "      <td>Bourjaily, Vance</td>\n",
       "      <td>Vance Bourjaily</td>\n",
       "      <td>Vance</td>\n",
       "      <td>Bourjaily</td>\n",
       "      <td>1966</td>\n",
       "      <td>1979</td>\n",
       "      <td>USA</td>\n",
       "      <td>IA</td>\n",
       "      <td>Iowa City</td>\n",
       "      <td>...</td>\n",
       "      <td>uniden</td>\n",
       "      <td>Bowdoin College</td>\n",
       "      <td>NaN</td>\n",
       "      <td>NaN</td>\n",
       "      <td>NaN</td>\n",
       "      <td>NaN</td>\n",
       "      <td>NaN</td>\n",
       "      <td>NaN</td>\n",
       "      <td>NaN</td>\n",
       "      <td>44.0</td>\n",
       "    </tr>\n",
       "    <tr>\n",
       "      <th>4</th>\n",
       "      <td>303</td>\n",
       "      <td>Brasfield, Samuel</td>\n",
       "      <td>Samuel Brasfield</td>\n",
       "      <td>Samuel</td>\n",
       "      <td>Brasfield</td>\n",
       "      <td>1966</td>\n",
       "      <td>NaN</td>\n",
       "      <td>USA</td>\n",
       "      <td>AL</td>\n",
       "      <td>Demopolis</td>\n",
       "      <td>...</td>\n",
       "      <td>uniden</td>\n",
       "      <td>NaN</td>\n",
       "      <td>NaN</td>\n",
       "      <td>NaN</td>\n",
       "      <td>NaN</td>\n",
       "      <td>NaN</td>\n",
       "      <td>NaN</td>\n",
       "      <td>NaN</td>\n",
       "      <td>NaN</td>\n",
       "      <td>20.0</td>\n",
       "    </tr>\n",
       "  </tbody>\n",
       "</table>\n",
       "<p>5 rows × 22 columns</p>\n",
       "</div>"
      ],
      "text/plain": [
       "   nea_person_id full_name_lastfirst full_name_firstlast given_name_middle  \\\n",
       "0             19       Adams, Leonie        Leonie Adams            Leonie   \n",
       "1            177         Belitt, Ben          Ben Belitt               Ben   \n",
       "2            235        Bird, Laurel         Laurel Bird            Laurel   \n",
       "3            282    Bourjaily, Vance     Vance Bourjaily             Vance   \n",
       "4            303   Brasfield, Samuel    Samuel Brasfield            Samuel   \n",
       "\n",
       "  family_name  nea_grant_year other_nea_grant country us_state    hometown  \\\n",
       "0       Adams            1966             NaN     USA       NY    New York   \n",
       "1      Belitt            1966             NaN     USA       VT  Bennington   \n",
       "2        Bird            1966             NaN     USA       TN   Knoxville   \n",
       "3   Bourjaily            1966            1979     USA       IA   Iowa City   \n",
       "4   Brasfield            1966             NaN     USA       AL   Demopolis   \n",
       "\n",
       "   ...  race_ethnicity                      ba  ba2                      ma  \\\n",
       "0  ...          uniden         Barnard College  NaN                     NaN   \n",
       "1  ...          uniden  University of Virginia  NaN  University of Virginia   \n",
       "2  ...          uniden                     NaN  NaN                     NaN   \n",
       "3  ...          uniden         Bowdoin College  NaN                     NaN   \n",
       "4  ...          uniden                     NaN  NaN                     NaN   \n",
       "\n",
       "   ma2  phd  mfa mfa2 post45_hathi_entry age of writer  \n",
       "0  NaN  NaN  NaN  NaN                NaN          67.0  \n",
       "1  NaN  NaN  NaN  NaN                NaN          55.0  \n",
       "2  NaN  NaN  NaN  NaN                NaN          20.0  \n",
       "3  NaN  NaN  NaN  NaN                NaN          44.0  \n",
       "4  NaN  NaN  NaN  NaN                NaN          20.0  \n",
       "\n",
       "[5 rows x 22 columns]"
      ]
     },
     "execution_count": 5,
     "metadata": {},
     "output_type": "execute_result"
    }
   ],
   "source": [
    "# Create a new feature: 'age of writer'\n",
    "df['age of writer'] = df['nea_grant_year'] - df['birth_year']\n",
    "df.head()"
   ]
  },
  {
   "cell_type": "code",
   "execution_count": 6,
   "id": "a8333a7d-1c61-448a-b882-f00dc2fcfca5",
   "metadata": {},
   "outputs": [
    {
     "data": {
      "text/html": [
       "<div>\n",
       "<style scoped>\n",
       "    .dataframe tbody tr th:only-of-type {\n",
       "        vertical-align: middle;\n",
       "    }\n",
       "\n",
       "    .dataframe tbody tr th {\n",
       "        vertical-align: top;\n",
       "    }\n",
       "\n",
       "    .dataframe thead th {\n",
       "        text-align: right;\n",
       "    }\n",
       "</style>\n",
       "<table border=\"1\" class=\"dataframe\">\n",
       "  <thead>\n",
       "    <tr style=\"text-align: right;\">\n",
       "      <th></th>\n",
       "      <th>nea_person_id</th>\n",
       "      <th>full_name_lastfirst</th>\n",
       "      <th>full_name_firstlast</th>\n",
       "      <th>given_name_middle</th>\n",
       "      <th>family_name</th>\n",
       "      <th>nea_grant_year</th>\n",
       "      <th>other_nea_grant</th>\n",
       "      <th>country</th>\n",
       "      <th>us_state</th>\n",
       "      <th>hometown</th>\n",
       "      <th>...</th>\n",
       "      <th>ba</th>\n",
       "      <th>ba2</th>\n",
       "      <th>ma</th>\n",
       "      <th>ma2</th>\n",
       "      <th>phd</th>\n",
       "      <th>mfa</th>\n",
       "      <th>mfa2</th>\n",
       "      <th>post45_hathi_entry</th>\n",
       "      <th>age of writer</th>\n",
       "      <th>age_group</th>\n",
       "    </tr>\n",
       "  </thead>\n",
       "  <tbody>\n",
       "    <tr>\n",
       "      <th>0</th>\n",
       "      <td>19</td>\n",
       "      <td>Adams, Leonie</td>\n",
       "      <td>Leonie Adams</td>\n",
       "      <td>Leonie</td>\n",
       "      <td>Adams</td>\n",
       "      <td>1966</td>\n",
       "      <td>NaN</td>\n",
       "      <td>USA</td>\n",
       "      <td>NY</td>\n",
       "      <td>New York</td>\n",
       "      <td>...</td>\n",
       "      <td>Barnard College</td>\n",
       "      <td>NaN</td>\n",
       "      <td>NaN</td>\n",
       "      <td>NaN</td>\n",
       "      <td>NaN</td>\n",
       "      <td>NaN</td>\n",
       "      <td>NaN</td>\n",
       "      <td>NaN</td>\n",
       "      <td>67.0</td>\n",
       "      <td>50-70</td>\n",
       "    </tr>\n",
       "    <tr>\n",
       "      <th>1</th>\n",
       "      <td>177</td>\n",
       "      <td>Belitt, Ben</td>\n",
       "      <td>Ben Belitt</td>\n",
       "      <td>Ben</td>\n",
       "      <td>Belitt</td>\n",
       "      <td>1966</td>\n",
       "      <td>NaN</td>\n",
       "      <td>USA</td>\n",
       "      <td>VT</td>\n",
       "      <td>Bennington</td>\n",
       "      <td>...</td>\n",
       "      <td>University of Virginia</td>\n",
       "      <td>NaN</td>\n",
       "      <td>University of Virginia</td>\n",
       "      <td>NaN</td>\n",
       "      <td>NaN</td>\n",
       "      <td>NaN</td>\n",
       "      <td>NaN</td>\n",
       "      <td>NaN</td>\n",
       "      <td>55.0</td>\n",
       "      <td>50-70</td>\n",
       "    </tr>\n",
       "    <tr>\n",
       "      <th>2</th>\n",
       "      <td>235</td>\n",
       "      <td>Bird, Laurel</td>\n",
       "      <td>Laurel Bird</td>\n",
       "      <td>Laurel</td>\n",
       "      <td>Bird</td>\n",
       "      <td>1966</td>\n",
       "      <td>NaN</td>\n",
       "      <td>USA</td>\n",
       "      <td>TN</td>\n",
       "      <td>Knoxville</td>\n",
       "      <td>...</td>\n",
       "      <td>NaN</td>\n",
       "      <td>NaN</td>\n",
       "      <td>NaN</td>\n",
       "      <td>NaN</td>\n",
       "      <td>NaN</td>\n",
       "      <td>NaN</td>\n",
       "      <td>NaN</td>\n",
       "      <td>NaN</td>\n",
       "      <td>20.0</td>\n",
       "      <td>&lt;30</td>\n",
       "    </tr>\n",
       "    <tr>\n",
       "      <th>3</th>\n",
       "      <td>282</td>\n",
       "      <td>Bourjaily, Vance</td>\n",
       "      <td>Vance Bourjaily</td>\n",
       "      <td>Vance</td>\n",
       "      <td>Bourjaily</td>\n",
       "      <td>1966</td>\n",
       "      <td>1979</td>\n",
       "      <td>USA</td>\n",
       "      <td>IA</td>\n",
       "      <td>Iowa City</td>\n",
       "      <td>...</td>\n",
       "      <td>Bowdoin College</td>\n",
       "      <td>NaN</td>\n",
       "      <td>NaN</td>\n",
       "      <td>NaN</td>\n",
       "      <td>NaN</td>\n",
       "      <td>NaN</td>\n",
       "      <td>NaN</td>\n",
       "      <td>NaN</td>\n",
       "      <td>44.0</td>\n",
       "      <td>30-50</td>\n",
       "    </tr>\n",
       "    <tr>\n",
       "      <th>4</th>\n",
       "      <td>303</td>\n",
       "      <td>Brasfield, Samuel</td>\n",
       "      <td>Samuel Brasfield</td>\n",
       "      <td>Samuel</td>\n",
       "      <td>Brasfield</td>\n",
       "      <td>1966</td>\n",
       "      <td>NaN</td>\n",
       "      <td>USA</td>\n",
       "      <td>AL</td>\n",
       "      <td>Demopolis</td>\n",
       "      <td>...</td>\n",
       "      <td>NaN</td>\n",
       "      <td>NaN</td>\n",
       "      <td>NaN</td>\n",
       "      <td>NaN</td>\n",
       "      <td>NaN</td>\n",
       "      <td>NaN</td>\n",
       "      <td>NaN</td>\n",
       "      <td>NaN</td>\n",
       "      <td>20.0</td>\n",
       "      <td>&lt;30</td>\n",
       "    </tr>\n",
       "  </tbody>\n",
       "</table>\n",
       "<p>5 rows × 23 columns</p>\n",
       "</div>"
      ],
      "text/plain": [
       "   nea_person_id full_name_lastfirst full_name_firstlast given_name_middle  \\\n",
       "0             19       Adams, Leonie        Leonie Adams            Leonie   \n",
       "1            177         Belitt, Ben          Ben Belitt               Ben   \n",
       "2            235        Bird, Laurel         Laurel Bird            Laurel   \n",
       "3            282    Bourjaily, Vance     Vance Bourjaily             Vance   \n",
       "4            303   Brasfield, Samuel    Samuel Brasfield            Samuel   \n",
       "\n",
       "  family_name  nea_grant_year other_nea_grant country us_state    hometown  \\\n",
       "0       Adams            1966             NaN     USA       NY    New York   \n",
       "1      Belitt            1966             NaN     USA       VT  Bennington   \n",
       "2        Bird            1966             NaN     USA       TN   Knoxville   \n",
       "3   Bourjaily            1966            1979     USA       IA   Iowa City   \n",
       "4   Brasfield            1966             NaN     USA       AL   Demopolis   \n",
       "\n",
       "   ...                      ba  ba2                      ma  ma2  phd  mfa  \\\n",
       "0  ...         Barnard College  NaN                     NaN  NaN  NaN  NaN   \n",
       "1  ...  University of Virginia  NaN  University of Virginia  NaN  NaN  NaN   \n",
       "2  ...                     NaN  NaN                     NaN  NaN  NaN  NaN   \n",
       "3  ...         Bowdoin College  NaN                     NaN  NaN  NaN  NaN   \n",
       "4  ...                     NaN  NaN                     NaN  NaN  NaN  NaN   \n",
       "\n",
       "  mfa2 post45_hathi_entry age of writer age_group  \n",
       "0  NaN                NaN          67.0     50-70  \n",
       "1  NaN                NaN          55.0     50-70  \n",
       "2  NaN                NaN          20.0       <30  \n",
       "3  NaN                NaN          44.0     30-50  \n",
       "4  NaN                NaN          20.0       <30  \n",
       "\n",
       "[5 rows x 23 columns]"
      ]
     },
     "execution_count": 6,
     "metadata": {},
     "output_type": "execute_result"
    }
   ],
   "source": [
    "# Categorize writers based on age groups\n",
    "df['age_group'] = pd.cut(\n",
    "    df['age of writer'],\n",
    "    bins=[0, 30, 50, 70, 100],\n",
    "    labels=['<30', '30-50', '50-70', '70+']\n",
    ")\n",
    "df.head()"
   ]
  },
  {
   "cell_type": "code",
   "execution_count": 7,
   "id": "a987979f-25a6-4893-aea9-e358857f70e5",
   "metadata": {},
   "outputs": [
    {
     "data": {
      "text/html": [
       "<div>\n",
       "<style scoped>\n",
       "    .dataframe tbody tr th:only-of-type {\n",
       "        vertical-align: middle;\n",
       "    }\n",
       "\n",
       "    .dataframe tbody tr th {\n",
       "        vertical-align: top;\n",
       "    }\n",
       "\n",
       "    .dataframe thead th {\n",
       "        text-align: right;\n",
       "    }\n",
       "</style>\n",
       "<table border=\"1\" class=\"dataframe\">\n",
       "  <thead>\n",
       "    <tr style=\"text-align: right;\">\n",
       "      <th></th>\n",
       "      <th>us_state</th>\n",
       "      <th>grant_count</th>\n",
       "    </tr>\n",
       "  </thead>\n",
       "  <tbody>\n",
       "    <tr>\n",
       "      <th>0</th>\n",
       "      <td>NY</td>\n",
       "      <td>643</td>\n",
       "    </tr>\n",
       "    <tr>\n",
       "      <th>1</th>\n",
       "      <td>CA</td>\n",
       "      <td>467</td>\n",
       "    </tr>\n",
       "    <tr>\n",
       "      <th>2</th>\n",
       "      <td>MA</td>\n",
       "      <td>235</td>\n",
       "    </tr>\n",
       "    <tr>\n",
       "      <th>3</th>\n",
       "      <td>TX</td>\n",
       "      <td>117</td>\n",
       "    </tr>\n",
       "    <tr>\n",
       "      <th>4</th>\n",
       "      <td>PA</td>\n",
       "      <td>117</td>\n",
       "    </tr>\n",
       "  </tbody>\n",
       "</table>\n",
       "</div>"
      ],
      "text/plain": [
       "  us_state  grant_count\n",
       "0       NY          643\n",
       "1       CA          467\n",
       "2       MA          235\n",
       "3       TX          117\n",
       "4       PA          117"
      ]
     },
     "execution_count": 7,
     "metadata": {},
     "output_type": "execute_result"
    }
   ],
   "source": [
    "# Count of grants by state\n",
    "grants_by_state = df['us_state'].value_counts().reset_index()\n",
    "grants_by_state.columns = ['us_state', 'grant_count']\n",
    "grants_by_state.head()"
   ]
  },
  {
   "cell_type": "code",
   "execution_count": 8,
   "id": "e7ce9239-5ce1-4075-9af7-66ae055ea0e4",
   "metadata": {},
   "outputs": [
    {
     "data": {
      "text/html": [
       "<div>\n",
       "<style scoped>\n",
       "    .dataframe tbody tr th:only-of-type {\n",
       "        vertical-align: middle;\n",
       "    }\n",
       "\n",
       "    .dataframe tbody tr th {\n",
       "        vertical-align: top;\n",
       "    }\n",
       "\n",
       "    .dataframe thead th {\n",
       "        text-align: right;\n",
       "    }\n",
       "</style>\n",
       "<table border=\"1\" class=\"dataframe\">\n",
       "  <thead>\n",
       "    <tr style=\"text-align: right;\">\n",
       "      <th></th>\n",
       "      <th>hometown</th>\n",
       "      <th>writer_count</th>\n",
       "    </tr>\n",
       "  </thead>\n",
       "  <tbody>\n",
       "    <tr>\n",
       "      <th>0</th>\n",
       "      <td>No city listed</td>\n",
       "      <td>367</td>\n",
       "    </tr>\n",
       "    <tr>\n",
       "      <th>1</th>\n",
       "      <td>New York</td>\n",
       "      <td>347</td>\n",
       "    </tr>\n",
       "    <tr>\n",
       "      <th>2</th>\n",
       "      <td>San Francisco</td>\n",
       "      <td>106</td>\n",
       "    </tr>\n",
       "    <tr>\n",
       "      <th>3</th>\n",
       "      <td>Brooklyn</td>\n",
       "      <td>69</td>\n",
       "    </tr>\n",
       "    <tr>\n",
       "      <th>4</th>\n",
       "      <td>Chicago</td>\n",
       "      <td>52</td>\n",
       "    </tr>\n",
       "  </tbody>\n",
       "</table>\n",
       "</div>"
      ],
      "text/plain": [
       "         hometown  writer_count\n",
       "0  No city listed           367\n",
       "1        New York           347\n",
       "2   San Francisco           106\n",
       "3        Brooklyn            69\n",
       "4         Chicago            52"
      ]
     },
     "execution_count": 8,
     "metadata": {},
     "output_type": "execute_result"
    }
   ],
   "source": [
    "# Count of writers by hometown\n",
    "writers_by_hometown = df['hometown'].value_counts().reset_index()\n",
    "writers_by_hometown.columns = ['hometown', 'writer_count']\n",
    "writers_by_hometown.head()"
   ]
  },
  {
   "cell_type": "code",
   "execution_count": 9,
   "id": "7e346e58-b9d5-4d13-a781-20598ce79a1d",
   "metadata": {},
   "outputs": [
    {
     "data": {
      "text/html": [
       "<div>\n",
       "<style scoped>\n",
       "    .dataframe tbody tr th:only-of-type {\n",
       "        vertical-align: middle;\n",
       "    }\n",
       "\n",
       "    .dataframe tbody tr th {\n",
       "        vertical-align: top;\n",
       "    }\n",
       "\n",
       "    .dataframe thead th {\n",
       "        text-align: right;\n",
       "    }\n",
       "</style>\n",
       "<table border=\"1\" class=\"dataframe\">\n",
       "  <thead>\n",
       "    <tr style=\"text-align: right;\">\n",
       "      <th></th>\n",
       "      <th>hometown</th>\n",
       "      <th>writer_count</th>\n",
       "      <th>location</th>\n",
       "      <th>latitude</th>\n",
       "      <th>longitude</th>\n",
       "    </tr>\n",
       "  </thead>\n",
       "  <tbody>\n",
       "    <tr>\n",
       "      <th>0</th>\n",
       "      <td>No city listed</td>\n",
       "      <td>367</td>\n",
       "      <td>None</td>\n",
       "      <td>NaN</td>\n",
       "      <td>NaN</td>\n",
       "    </tr>\n",
       "    <tr>\n",
       "      <th>1</th>\n",
       "      <td>New York</td>\n",
       "      <td>347</td>\n",
       "      <td>(City of New York, New York, United States, (4...</td>\n",
       "      <td>40.712728</td>\n",
       "      <td>-74.006015</td>\n",
       "    </tr>\n",
       "    <tr>\n",
       "      <th>2</th>\n",
       "      <td>San Francisco</td>\n",
       "      <td>106</td>\n",
       "      <td>(San Francisco, California, United States, (37...</td>\n",
       "      <td>37.779259</td>\n",
       "      <td>-122.419329</td>\n",
       "    </tr>\n",
       "    <tr>\n",
       "      <th>3</th>\n",
       "      <td>Brooklyn</td>\n",
       "      <td>69</td>\n",
       "      <td>(Brooklyn, Kings County, City of New York, New...</td>\n",
       "      <td>40.652601</td>\n",
       "      <td>-73.949721</td>\n",
       "    </tr>\n",
       "    <tr>\n",
       "      <th>4</th>\n",
       "      <td>Chicago</td>\n",
       "      <td>52</td>\n",
       "      <td>(Chicago, Cook County, Illinois, United States...</td>\n",
       "      <td>41.875562</td>\n",
       "      <td>-87.624421</td>\n",
       "    </tr>\n",
       "  </tbody>\n",
       "</table>\n",
       "</div>"
      ],
      "text/plain": [
       "         hometown  writer_count  \\\n",
       "0  No city listed           367   \n",
       "1        New York           347   \n",
       "2   San Francisco           106   \n",
       "3        Brooklyn            69   \n",
       "4         Chicago            52   \n",
       "\n",
       "                                            location   latitude   longitude  \n",
       "0                                               None        NaN         NaN  \n",
       "1  (City of New York, New York, United States, (4...  40.712728  -74.006015  \n",
       "2  (San Francisco, California, United States, (37...  37.779259 -122.419329  \n",
       "3  (Brooklyn, Kings County, City of New York, New...  40.652601  -73.949721  \n",
       "4  (Chicago, Cook County, Illinois, United States...  41.875562  -87.624421  "
      ]
     },
     "execution_count": 9,
     "metadata": {},
     "output_type": "execute_result"
    }
   ],
   "source": [
    "# Geocoding hometowns for map visualization\n",
    "geolocator = Nominatim(user_agent='nea_analysis')\n",
    "geocode = RateLimiter(geolocator.geocode, min_delay_seconds=1)\n",
    "\n",
    "# Adding latitude and longitude for hometowns\n",
    "writers_by_hometown['location'] = writers_by_hometown['hometown'].apply(geocode)\n",
    "writers_by_hometown['latitude'] = writers_by_hometown['location'].apply(lambda loc: loc.latitude if loc else None)\n",
    "writers_by_hometown['longitude'] = writers_by_hometown['location'].apply(lambda loc: loc.longitude if loc else None)\n",
    "writers_by_hometown.head()"
   ]
  },
  {
   "cell_type": "code",
   "execution_count": 10,
   "id": "edcf5654-f870-4a6b-bc01-be3fdad04705",
   "metadata": {},
   "outputs": [
    {
     "data": {
      "text/html": [
       "<div>\n",
       "<style scoped>\n",
       "    .dataframe tbody tr th:only-of-type {\n",
       "        vertical-align: middle;\n",
       "    }\n",
       "\n",
       "    .dataframe tbody tr th {\n",
       "        vertical-align: top;\n",
       "    }\n",
       "\n",
       "    .dataframe thead th {\n",
       "        text-align: right;\n",
       "    }\n",
       "</style>\n",
       "<table border=\"1\" class=\"dataframe\">\n",
       "  <thead>\n",
       "    <tr style=\"text-align: right;\">\n",
       "      <th></th>\n",
       "      <th>hometown</th>\n",
       "      <th>writer_count</th>\n",
       "      <th>location</th>\n",
       "      <th>latitude</th>\n",
       "      <th>longitude</th>\n",
       "    </tr>\n",
       "  </thead>\n",
       "  <tbody>\n",
       "    <tr>\n",
       "      <th>1</th>\n",
       "      <td>New York</td>\n",
       "      <td>347</td>\n",
       "      <td>(City of New York, New York, United States, (4...</td>\n",
       "      <td>40.712728</td>\n",
       "      <td>-74.006015</td>\n",
       "    </tr>\n",
       "    <tr>\n",
       "      <th>2</th>\n",
       "      <td>San Francisco</td>\n",
       "      <td>106</td>\n",
       "      <td>(San Francisco, California, United States, (37...</td>\n",
       "      <td>37.779259</td>\n",
       "      <td>-122.419329</td>\n",
       "    </tr>\n",
       "    <tr>\n",
       "      <th>3</th>\n",
       "      <td>Brooklyn</td>\n",
       "      <td>69</td>\n",
       "      <td>(Brooklyn, Kings County, City of New York, New...</td>\n",
       "      <td>40.652601</td>\n",
       "      <td>-73.949721</td>\n",
       "    </tr>\n",
       "    <tr>\n",
       "      <th>4</th>\n",
       "      <td>Chicago</td>\n",
       "      <td>52</td>\n",
       "      <td>(Chicago, Cook County, Illinois, United States...</td>\n",
       "      <td>41.875562</td>\n",
       "      <td>-87.624421</td>\n",
       "    </tr>\n",
       "    <tr>\n",
       "      <th>5</th>\n",
       "      <td>Berkeley</td>\n",
       "      <td>52</td>\n",
       "      <td>(Berkeley, Alameda County, California, United ...</td>\n",
       "      <td>37.870839</td>\n",
       "      <td>-122.272863</td>\n",
       "    </tr>\n",
       "  </tbody>\n",
       "</table>\n",
       "</div>"
      ],
      "text/plain": [
       "        hometown  writer_count  \\\n",
       "1       New York           347   \n",
       "2  San Francisco           106   \n",
       "3       Brooklyn            69   \n",
       "4        Chicago            52   \n",
       "5       Berkeley            52   \n",
       "\n",
       "                                            location   latitude   longitude  \n",
       "1  (City of New York, New York, United States, (4...  40.712728  -74.006015  \n",
       "2  (San Francisco, California, United States, (37...  37.779259 -122.419329  \n",
       "3  (Brooklyn, Kings County, City of New York, New...  40.652601  -73.949721  \n",
       "4  (Chicago, Cook County, Illinois, United States...  41.875562  -87.624421  \n",
       "5  (Berkeley, Alameda County, California, United ...  37.870839 -122.272863  "
      ]
     },
     "execution_count": 10,
     "metadata": {},
     "output_type": "execute_result"
    }
   ],
   "source": [
    "# Filter out rows without location data for visualization\n",
    "writers_by_hometown_map = writers_by_hometown.dropna(subset=['latitude', 'longitude'])\n",
    "writers_by_hometown_map.head()"
   ]
  },
  {
   "cell_type": "code",
   "execution_count": 11,
   "id": "13c37532-a0fb-4962-b96b-f6d76420ff78",
   "metadata": {},
   "outputs": [],
   "source": [
    "# Counting universities\n",
    "df['university_count'] = df[['ba', 'ba2', 'ma', 'ma2', 'phd', 'mfa', 'mfa2', 'post45_hathi_entry']].notna().sum(axis=1)"
   ]
  },
  {
   "cell_type": "code",
   "execution_count": 13,
   "id": "15dae1a2-ea95-49d6-91d9-fa76a3d38474",
   "metadata": {},
   "outputs": [
    {
     "data": {
      "text/html": [
       "<div>\n",
       "<style scoped>\n",
       "    .dataframe tbody tr th:only-of-type {\n",
       "        vertical-align: middle;\n",
       "    }\n",
       "\n",
       "    .dataframe tbody tr th {\n",
       "        vertical-align: top;\n",
       "    }\n",
       "\n",
       "    .dataframe thead th {\n",
       "        text-align: right;\n",
       "    }\n",
       "</style>\n",
       "<table border=\"1\" class=\"dataframe\">\n",
       "  <thead>\n",
       "    <tr style=\"text-align: right;\">\n",
       "      <th></th>\n",
       "      <th>nea_grant_year</th>\n",
       "      <th>grant_count</th>\n",
       "    </tr>\n",
       "  </thead>\n",
       "  <tbody>\n",
       "    <tr>\n",
       "      <th>0</th>\n",
       "      <td>1966</td>\n",
       "      <td>47</td>\n",
       "    </tr>\n",
       "    <tr>\n",
       "      <th>1</th>\n",
       "      <td>1967</td>\n",
       "      <td>23</td>\n",
       "    </tr>\n",
       "    <tr>\n",
       "      <th>2</th>\n",
       "      <td>1968</td>\n",
       "      <td>55</td>\n",
       "    </tr>\n",
       "    <tr>\n",
       "      <th>3</th>\n",
       "      <td>1969</td>\n",
       "      <td>48</td>\n",
       "    </tr>\n",
       "    <tr>\n",
       "      <th>4</th>\n",
       "      <td>1970</td>\n",
       "      <td>41</td>\n",
       "    </tr>\n",
       "  </tbody>\n",
       "</table>\n",
       "</div>"
      ],
      "text/plain": [
       "   nea_grant_year  grant_count\n",
       "0            1966           47\n",
       "1            1967           23\n",
       "2            1968           55\n",
       "3            1969           48\n",
       "4            1970           41"
      ]
     },
     "execution_count": 13,
     "metadata": {},
     "output_type": "execute_result"
    }
   ],
   "source": [
    "# Count of grants per year\n",
    "grants_per_year = df.groupby('nea_grant_year').size().reset_index(name='grant_count')\n",
    "grants_per_year.head()"
   ]
  },
  {
   "cell_type": "markdown",
   "id": "70e3d577-0cb4-4375-98d4-e14fb30afd11",
   "metadata": {},
   "source": [
    "### 5. Create a Dash app ###"
   ]
  },
  {
   "cell_type": "code",
   "execution_count": 22,
   "id": "1796bcf6-af34-41bb-9495-cc359ca63d62",
   "metadata": {},
   "outputs": [
    {
     "data": {
      "application/vnd.plotly.v1+json": {
       "config": {
        "plotlyServerURL": "https://plot.ly"
       },
       "data": [
        {
         "hovertemplate": "Year=%{x}<br>Number of Grants=%{y}<extra></extra>",
         "legendgroup": "",
         "line": {
          "color": "#636efa",
          "dash": "solid"
         },
         "marker": {
          "symbol": "circle"
         },
         "mode": "lines",
         "name": "",
         "orientation": "v",
         "showlegend": false,
         "type": "scatter",
         "x": [
          1966,
          1967,
          1968,
          1969,
          1970,
          1971,
          1972,
          1973,
          1974,
          1975,
          1976,
          1977,
          1978,
          1979,
          1980,
          1981,
          1982,
          1983,
          1984,
          1985,
          1986,
          1987,
          1988,
          1989,
          1990,
          1991,
          1992,
          1993,
          1994,
          1995,
          1996,
          1997,
          1998,
          1999,
          2000,
          2001,
          2002,
          2003,
          2004,
          2005,
          2006,
          2007,
          2008,
          2009,
          2010,
          2011,
          2012,
          2013,
          2014,
          2015,
          2016,
          2017,
          2018,
          2019,
          2020,
          2021,
          2022,
          2023,
          2024
         ],
         "xaxis": "x",
         "y": [
          47,
          23,
          55,
          48,
          41,
          2,
          39,
          60,
          94,
          62,
          164,
          89,
          130,
          127,
          155,
          114,
          89,
          100,
          117,
          100,
          95,
          106,
          104,
          99,
          99,
          92,
          90,
          89,
          77,
          82,
          42,
          37,
          30,
          32,
          35,
          34,
          36,
          38,
          42,
          45,
          50,
          50,
          42,
          42,
          42,
          42,
          41,
          40,
          38,
          36,
          37,
          37,
          36,
          35,
          36,
          35,
          35,
          36,
          35
         ],
         "yaxis": "y"
        }
       ],
       "layout": {
        "autosize": true,
        "font": {
         "color": "white"
        },
        "legend": {
         "tracegroupgap": 0
        },
        "paper_bgcolor": "#1e1e1e",
        "plot_bgcolor": "#1e1e1e",
        "template": {
         "data": {
          "bar": [
           {
            "error_x": {
             "color": "#f2f5fa"
            },
            "error_y": {
             "color": "#f2f5fa"
            },
            "marker": {
             "line": {
              "color": "rgb(17,17,17)",
              "width": 0.5
             },
             "pattern": {
              "fillmode": "overlay",
              "size": 10,
              "solidity": 0.2
             }
            },
            "type": "bar"
           }
          ],
          "barpolar": [
           {
            "marker": {
             "line": {
              "color": "rgb(17,17,17)",
              "width": 0.5
             },
             "pattern": {
              "fillmode": "overlay",
              "size": 10,
              "solidity": 0.2
             }
            },
            "type": "barpolar"
           }
          ],
          "carpet": [
           {
            "aaxis": {
             "endlinecolor": "#A2B1C6",
             "gridcolor": "#506784",
             "linecolor": "#506784",
             "minorgridcolor": "#506784",
             "startlinecolor": "#A2B1C6"
            },
            "baxis": {
             "endlinecolor": "#A2B1C6",
             "gridcolor": "#506784",
             "linecolor": "#506784",
             "minorgridcolor": "#506784",
             "startlinecolor": "#A2B1C6"
            },
            "type": "carpet"
           }
          ],
          "choropleth": [
           {
            "colorbar": {
             "outlinewidth": 0,
             "ticks": ""
            },
            "type": "choropleth"
           }
          ],
          "contour": [
           {
            "colorbar": {
             "outlinewidth": 0,
             "ticks": ""
            },
            "colorscale": [
             [
              0,
              "#0d0887"
             ],
             [
              0.1111111111111111,
              "#46039f"
             ],
             [
              0.2222222222222222,
              "#7201a8"
             ],
             [
              0.3333333333333333,
              "#9c179e"
             ],
             [
              0.4444444444444444,
              "#bd3786"
             ],
             [
              0.5555555555555556,
              "#d8576b"
             ],
             [
              0.6666666666666666,
              "#ed7953"
             ],
             [
              0.7777777777777778,
              "#fb9f3a"
             ],
             [
              0.8888888888888888,
              "#fdca26"
             ],
             [
              1,
              "#f0f921"
             ]
            ],
            "type": "contour"
           }
          ],
          "contourcarpet": [
           {
            "colorbar": {
             "outlinewidth": 0,
             "ticks": ""
            },
            "type": "contourcarpet"
           }
          ],
          "heatmap": [
           {
            "colorbar": {
             "outlinewidth": 0,
             "ticks": ""
            },
            "colorscale": [
             [
              0,
              "#0d0887"
             ],
             [
              0.1111111111111111,
              "#46039f"
             ],
             [
              0.2222222222222222,
              "#7201a8"
             ],
             [
              0.3333333333333333,
              "#9c179e"
             ],
             [
              0.4444444444444444,
              "#bd3786"
             ],
             [
              0.5555555555555556,
              "#d8576b"
             ],
             [
              0.6666666666666666,
              "#ed7953"
             ],
             [
              0.7777777777777778,
              "#fb9f3a"
             ],
             [
              0.8888888888888888,
              "#fdca26"
             ],
             [
              1,
              "#f0f921"
             ]
            ],
            "type": "heatmap"
           }
          ],
          "heatmapgl": [
           {
            "colorbar": {
             "outlinewidth": 0,
             "ticks": ""
            },
            "colorscale": [
             [
              0,
              "#0d0887"
             ],
             [
              0.1111111111111111,
              "#46039f"
             ],
             [
              0.2222222222222222,
              "#7201a8"
             ],
             [
              0.3333333333333333,
              "#9c179e"
             ],
             [
              0.4444444444444444,
              "#bd3786"
             ],
             [
              0.5555555555555556,
              "#d8576b"
             ],
             [
              0.6666666666666666,
              "#ed7953"
             ],
             [
              0.7777777777777778,
              "#fb9f3a"
             ],
             [
              0.8888888888888888,
              "#fdca26"
             ],
             [
              1,
              "#f0f921"
             ]
            ],
            "type": "heatmapgl"
           }
          ],
          "histogram": [
           {
            "marker": {
             "pattern": {
              "fillmode": "overlay",
              "size": 10,
              "solidity": 0.2
             }
            },
            "type": "histogram"
           }
          ],
          "histogram2d": [
           {
            "colorbar": {
             "outlinewidth": 0,
             "ticks": ""
            },
            "colorscale": [
             [
              0,
              "#0d0887"
             ],
             [
              0.1111111111111111,
              "#46039f"
             ],
             [
              0.2222222222222222,
              "#7201a8"
             ],
             [
              0.3333333333333333,
              "#9c179e"
             ],
             [
              0.4444444444444444,
              "#bd3786"
             ],
             [
              0.5555555555555556,
              "#d8576b"
             ],
             [
              0.6666666666666666,
              "#ed7953"
             ],
             [
              0.7777777777777778,
              "#fb9f3a"
             ],
             [
              0.8888888888888888,
              "#fdca26"
             ],
             [
              1,
              "#f0f921"
             ]
            ],
            "type": "histogram2d"
           }
          ],
          "histogram2dcontour": [
           {
            "colorbar": {
             "outlinewidth": 0,
             "ticks": ""
            },
            "colorscale": [
             [
              0,
              "#0d0887"
             ],
             [
              0.1111111111111111,
              "#46039f"
             ],
             [
              0.2222222222222222,
              "#7201a8"
             ],
             [
              0.3333333333333333,
              "#9c179e"
             ],
             [
              0.4444444444444444,
              "#bd3786"
             ],
             [
              0.5555555555555556,
              "#d8576b"
             ],
             [
              0.6666666666666666,
              "#ed7953"
             ],
             [
              0.7777777777777778,
              "#fb9f3a"
             ],
             [
              0.8888888888888888,
              "#fdca26"
             ],
             [
              1,
              "#f0f921"
             ]
            ],
            "type": "histogram2dcontour"
           }
          ],
          "mesh3d": [
           {
            "colorbar": {
             "outlinewidth": 0,
             "ticks": ""
            },
            "type": "mesh3d"
           }
          ],
          "parcoords": [
           {
            "line": {
             "colorbar": {
              "outlinewidth": 0,
              "ticks": ""
             }
            },
            "type": "parcoords"
           }
          ],
          "pie": [
           {
            "automargin": true,
            "type": "pie"
           }
          ],
          "scatter": [
           {
            "marker": {
             "line": {
              "color": "#283442"
             }
            },
            "type": "scatter"
           }
          ],
          "scatter3d": [
           {
            "line": {
             "colorbar": {
              "outlinewidth": 0,
              "ticks": ""
             }
            },
            "marker": {
             "colorbar": {
              "outlinewidth": 0,
              "ticks": ""
             }
            },
            "type": "scatter3d"
           }
          ],
          "scattercarpet": [
           {
            "marker": {
             "colorbar": {
              "outlinewidth": 0,
              "ticks": ""
             }
            },
            "type": "scattercarpet"
           }
          ],
          "scattergeo": [
           {
            "marker": {
             "colorbar": {
              "outlinewidth": 0,
              "ticks": ""
             }
            },
            "type": "scattergeo"
           }
          ],
          "scattergl": [
           {
            "marker": {
             "line": {
              "color": "#283442"
             }
            },
            "type": "scattergl"
           }
          ],
          "scattermapbox": [
           {
            "marker": {
             "colorbar": {
              "outlinewidth": 0,
              "ticks": ""
             }
            },
            "type": "scattermapbox"
           }
          ],
          "scatterpolar": [
           {
            "marker": {
             "colorbar": {
              "outlinewidth": 0,
              "ticks": ""
             }
            },
            "type": "scatterpolar"
           }
          ],
          "scatterpolargl": [
           {
            "marker": {
             "colorbar": {
              "outlinewidth": 0,
              "ticks": ""
             }
            },
            "type": "scatterpolargl"
           }
          ],
          "scatterternary": [
           {
            "marker": {
             "colorbar": {
              "outlinewidth": 0,
              "ticks": ""
             }
            },
            "type": "scatterternary"
           }
          ],
          "surface": [
           {
            "colorbar": {
             "outlinewidth": 0,
             "ticks": ""
            },
            "colorscale": [
             [
              0,
              "#0d0887"
             ],
             [
              0.1111111111111111,
              "#46039f"
             ],
             [
              0.2222222222222222,
              "#7201a8"
             ],
             [
              0.3333333333333333,
              "#9c179e"
             ],
             [
              0.4444444444444444,
              "#bd3786"
             ],
             [
              0.5555555555555556,
              "#d8576b"
             ],
             [
              0.6666666666666666,
              "#ed7953"
             ],
             [
              0.7777777777777778,
              "#fb9f3a"
             ],
             [
              0.8888888888888888,
              "#fdca26"
             ],
             [
              1,
              "#f0f921"
             ]
            ],
            "type": "surface"
           }
          ],
          "table": [
           {
            "cells": {
             "fill": {
              "color": "#506784"
             },
             "line": {
              "color": "rgb(17,17,17)"
             }
            },
            "header": {
             "fill": {
              "color": "#2a3f5f"
             },
             "line": {
              "color": "rgb(17,17,17)"
             }
            },
            "type": "table"
           }
          ]
         },
         "layout": {
          "annotationdefaults": {
           "arrowcolor": "#f2f5fa",
           "arrowhead": 0,
           "arrowwidth": 1
          },
          "autotypenumbers": "strict",
          "coloraxis": {
           "colorbar": {
            "outlinewidth": 0,
            "ticks": ""
           }
          },
          "colorscale": {
           "diverging": [
            [
             0,
             "#8e0152"
            ],
            [
             0.1,
             "#c51b7d"
            ],
            [
             0.2,
             "#de77ae"
            ],
            [
             0.3,
             "#f1b6da"
            ],
            [
             0.4,
             "#fde0ef"
            ],
            [
             0.5,
             "#f7f7f7"
            ],
            [
             0.6,
             "#e6f5d0"
            ],
            [
             0.7,
             "#b8e186"
            ],
            [
             0.8,
             "#7fbc41"
            ],
            [
             0.9,
             "#4d9221"
            ],
            [
             1,
             "#276419"
            ]
           ],
           "sequential": [
            [
             0,
             "#0d0887"
            ],
            [
             0.1111111111111111,
             "#46039f"
            ],
            [
             0.2222222222222222,
             "#7201a8"
            ],
            [
             0.3333333333333333,
             "#9c179e"
            ],
            [
             0.4444444444444444,
             "#bd3786"
            ],
            [
             0.5555555555555556,
             "#d8576b"
            ],
            [
             0.6666666666666666,
             "#ed7953"
            ],
            [
             0.7777777777777778,
             "#fb9f3a"
            ],
            [
             0.8888888888888888,
             "#fdca26"
            ],
            [
             1,
             "#f0f921"
            ]
           ],
           "sequentialminus": [
            [
             0,
             "#0d0887"
            ],
            [
             0.1111111111111111,
             "#46039f"
            ],
            [
             0.2222222222222222,
             "#7201a8"
            ],
            [
             0.3333333333333333,
             "#9c179e"
            ],
            [
             0.4444444444444444,
             "#bd3786"
            ],
            [
             0.5555555555555556,
             "#d8576b"
            ],
            [
             0.6666666666666666,
             "#ed7953"
            ],
            [
             0.7777777777777778,
             "#fb9f3a"
            ],
            [
             0.8888888888888888,
             "#fdca26"
            ],
            [
             1,
             "#f0f921"
            ]
           ]
          },
          "colorway": [
           "#636efa",
           "#EF553B",
           "#00cc96",
           "#ab63fa",
           "#FFA15A",
           "#19d3f3",
           "#FF6692",
           "#B6E880",
           "#FF97FF",
           "#FECB52"
          ],
          "font": {
           "color": "#f2f5fa"
          },
          "geo": {
           "bgcolor": "rgb(17,17,17)",
           "lakecolor": "rgb(17,17,17)",
           "landcolor": "rgb(17,17,17)",
           "showlakes": true,
           "showland": true,
           "subunitcolor": "#506784"
          },
          "hoverlabel": {
           "align": "left"
          },
          "hovermode": "closest",
          "mapbox": {
           "style": "dark"
          },
          "paper_bgcolor": "rgb(17,17,17)",
          "plot_bgcolor": "rgb(17,17,17)",
          "polar": {
           "angularaxis": {
            "gridcolor": "#506784",
            "linecolor": "#506784",
            "ticks": ""
           },
           "bgcolor": "rgb(17,17,17)",
           "radialaxis": {
            "gridcolor": "#506784",
            "linecolor": "#506784",
            "ticks": ""
           }
          },
          "scene": {
           "xaxis": {
            "backgroundcolor": "rgb(17,17,17)",
            "gridcolor": "#506784",
            "gridwidth": 2,
            "linecolor": "#506784",
            "showbackground": true,
            "ticks": "",
            "zerolinecolor": "#C8D4E3"
           },
           "yaxis": {
            "backgroundcolor": "rgb(17,17,17)",
            "gridcolor": "#506784",
            "gridwidth": 2,
            "linecolor": "#506784",
            "showbackground": true,
            "ticks": "",
            "zerolinecolor": "#C8D4E3"
           },
           "zaxis": {
            "backgroundcolor": "rgb(17,17,17)",
            "gridcolor": "#506784",
            "gridwidth": 2,
            "linecolor": "#506784",
            "showbackground": true,
            "ticks": "",
            "zerolinecolor": "#C8D4E3"
           }
          },
          "shapedefaults": {
           "line": {
            "color": "#f2f5fa"
           }
          },
          "sliderdefaults": {
           "bgcolor": "#C8D4E3",
           "bordercolor": "rgb(17,17,17)",
           "borderwidth": 1,
           "tickwidth": 0
          },
          "ternary": {
           "aaxis": {
            "gridcolor": "#506784",
            "linecolor": "#506784",
            "ticks": ""
           },
           "baxis": {
            "gridcolor": "#506784",
            "linecolor": "#506784",
            "ticks": ""
           },
           "bgcolor": "rgb(17,17,17)",
           "caxis": {
            "gridcolor": "#506784",
            "linecolor": "#506784",
            "ticks": ""
           }
          },
          "title": {
           "x": 0.05
          },
          "updatemenudefaults": {
           "bgcolor": "#506784",
           "borderwidth": 0
          },
          "xaxis": {
           "automargin": true,
           "gridcolor": "#283442",
           "linecolor": "#506784",
           "ticks": "",
           "title": {
            "standoff": 15
           },
           "zerolinecolor": "#283442",
           "zerolinewidth": 2
          },
          "yaxis": {
           "automargin": true,
           "gridcolor": "#283442",
           "linecolor": "#506784",
           "ticks": "",
           "title": {
            "standoff": 15
           },
           "zerolinecolor": "#283442",
           "zerolinewidth": 2
          }
         }
        },
        "title": {
         "text": "Grants per Year"
        },
        "xaxis": {
         "anchor": "y",
         "autorange": true,
         "domain": [
          0,
          1
         ],
         "range": [
          1966,
          2024
         ],
         "title": {
          "text": "Year"
         },
         "type": "linear"
        },
        "yaxis": {
         "anchor": "x",
         "autorange": true,
         "domain": [
          0,
          1
         ],
         "range": [
          -7,
          173
         ],
         "title": {
          "text": "Number of Grants"
         },
         "type": "linear"
        }
       }
      },
      "image/png": "[encoded data removed]",
      "text/html": [
       "<div>                            <div id=\"24130483-dfd2-4121-becc-d463d591a6d5\" class=\"plotly-graph-div\" style=\"height:525px; width:100%;\"></div>            <script type=\"text/javascript\">                require([\"plotly\"], function(Plotly) {                    window.PLOTLYENV=window.PLOTLYENV || {};                                    if (document.getElementById(\"24130483-dfd2-4121-becc-d463d591a6d5\")) {                    Plotly.newPlot(                        \"24130483-dfd2-4121-becc-d463d591a6d5\",                        [{\"hovertemplate\":\"Year=%{x}\\u003cbr\\u003eNumber of Grants=%{y}\\u003cextra\\u003e\\u003c\\u002fextra\\u003e\",\"legendgroup\":\"\",\"line\":{\"color\":\"#636efa\",\"dash\":\"solid\"},\"marker\":{\"symbol\":\"circle\"},\"mode\":\"lines\",\"name\":\"\",\"orientation\":\"v\",\"showlegend\":false,\"x\":[1966,1967,1968,1969,1970,1971,1972,1973,1974,1975,1976,1977,1978,1979,1980,1981,1982,1983,1984,1985,1986,1987,1988,1989,1990,1991,1992,1993,1994,1995,1996,1997,1998,1999,2000,2001,2002,2003,2004,2005,2006,2007,2008,2009,2010,2011,2012,2013,2014,2015,2016,2017,2018,2019,2020,2021,2022,2023,2024],\"xaxis\":\"x\",\"y\":[47,23,55,48,41,2,39,60,94,62,164,89,130,127,155,114,89,100,117,100,95,106,104,99,99,92,90,89,77,82,42,37,30,32,35,34,36,38,42,45,50,50,42,42,42,42,41,40,38,36,37,37,36,35,36,35,35,36,35],\"yaxis\":\"y\",\"type\":\"scatter\"}],                        {\"template\":{\"data\":{\"barpolar\":[{\"marker\":{\"line\":{\"color\":\"rgb(17,17,17)\",\"width\":0.5},\"pattern\":{\"fillmode\":\"overlay\",\"size\":10,\"solidity\":0.2}},\"type\":\"barpolar\"}],\"bar\":[{\"error_x\":{\"color\":\"#f2f5fa\"},\"error_y\":{\"color\":\"#f2f5fa\"},\"marker\":{\"line\":{\"color\":\"rgb(17,17,17)\",\"width\":0.5},\"pattern\":{\"fillmode\":\"overlay\",\"size\":10,\"solidity\":0.2}},\"type\":\"bar\"}],\"carpet\":[{\"aaxis\":{\"endlinecolor\":\"#A2B1C6\",\"gridcolor\":\"#506784\",\"linecolor\":\"#506784\",\"minorgridcolor\":\"#506784\",\"startlinecolor\":\"#A2B1C6\"},\"baxis\":{\"endlinecolor\":\"#A2B1C6\",\"gridcolor\":\"#506784\",\"linecolor\":\"#506784\",\"minorgridcolor\":\"#506784\",\"startlinecolor\":\"#A2B1C6\"},\"type\":\"carpet\"}],\"choropleth\":[{\"colorbar\":{\"outlinewidth\":0,\"ticks\":\"\"},\"type\":\"choropleth\"}],\"contourcarpet\":[{\"colorbar\":{\"outlinewidth\":0,\"ticks\":\"\"},\"type\":\"contourcarpet\"}],\"contour\":[{\"colorbar\":{\"outlinewidth\":0,\"ticks\":\"\"},\"colorscale\":[[0.0,\"#0d0887\"],[0.1111111111111111,\"#46039f\"],[0.2222222222222222,\"#7201a8\"],[0.3333333333333333,\"#9c179e\"],[0.4444444444444444,\"#bd3786\"],[0.5555555555555556,\"#d8576b\"],[0.6666666666666666,\"#ed7953\"],[0.7777777777777778,\"#fb9f3a\"],[0.8888888888888888,\"#fdca26\"],[1.0,\"#f0f921\"]],\"type\":\"contour\"}],\"heatmapgl\":[{\"colorbar\":{\"outlinewidth\":0,\"ticks\":\"\"},\"colorscale\":[[0.0,\"#0d0887\"],[0.1111111111111111,\"#46039f\"],[0.2222222222222222,\"#7201a8\"],[0.3333333333333333,\"#9c179e\"],[0.4444444444444444,\"#bd3786\"],[0.5555555555555556,\"#d8576b\"],[0.6666666666666666,\"#ed7953\"],[0.7777777777777778,\"#fb9f3a\"],[0.8888888888888888,\"#fdca26\"],[1.0,\"#f0f921\"]],\"type\":\"heatmapgl\"}],\"heatmap\":[{\"colorbar\":{\"outlinewidth\":0,\"ticks\":\"\"},\"colorscale\":[[0.0,\"#0d0887\"],[0.1111111111111111,\"#46039f\"],[0.2222222222222222,\"#7201a8\"],[0.3333333333333333,\"#9c179e\"],[0.4444444444444444,\"#bd3786\"],[0.5555555555555556,\"#d8576b\"],[0.6666666666666666,\"#ed7953\"],[0.7777777777777778,\"#fb9f3a\"],[0.8888888888888888,\"#fdca26\"],[1.0,\"#f0f921\"]],\"type\":\"heatmap\"}],\"histogram2dcontour\":[{\"colorbar\":{\"outlinewidth\":0,\"ticks\":\"\"},\"colorscale\":[[0.0,\"#0d0887\"],[0.1111111111111111,\"#46039f\"],[0.2222222222222222,\"#7201a8\"],[0.3333333333333333,\"#9c179e\"],[0.4444444444444444,\"#bd3786\"],[0.5555555555555556,\"#d8576b\"],[0.6666666666666666,\"#ed7953\"],[0.7777777777777778,\"#fb9f3a\"],[0.8888888888888888,\"#fdca26\"],[1.0,\"#f0f921\"]],\"type\":\"histogram2dcontour\"}],\"histogram2d\":[{\"colorbar\":{\"outlinewidth\":0,\"ticks\":\"\"},\"colorscale\":[[0.0,\"#0d0887\"],[0.1111111111111111,\"#46039f\"],[0.2222222222222222,\"#7201a8\"],[0.3333333333333333,\"#9c179e\"],[0.4444444444444444,\"#bd3786\"],[0.5555555555555556,\"#d8576b\"],[0.6666666666666666,\"#ed7953\"],[0.7777777777777778,\"#fb9f3a\"],[0.8888888888888888,\"#fdca26\"],[1.0,\"#f0f921\"]],\"type\":\"histogram2d\"}],\"histogram\":[{\"marker\":{\"pattern\":{\"fillmode\":\"overlay\",\"size\":10,\"solidity\":0.2}},\"type\":\"histogram\"}],\"mesh3d\":[{\"colorbar\":{\"outlinewidth\":0,\"ticks\":\"\"},\"type\":\"mesh3d\"}],\"parcoords\":[{\"line\":{\"colorbar\":{\"outlinewidth\":0,\"ticks\":\"\"}},\"type\":\"parcoords\"}],\"pie\":[{\"automargin\":true,\"type\":\"pie\"}],\"scatter3d\":[{\"line\":{\"colorbar\":{\"outlinewidth\":0,\"ticks\":\"\"}},\"marker\":{\"colorbar\":{\"outlinewidth\":0,\"ticks\":\"\"}},\"type\":\"scatter3d\"}],\"scattercarpet\":[{\"marker\":{\"colorbar\":{\"outlinewidth\":0,\"ticks\":\"\"}},\"type\":\"scattercarpet\"}],\"scattergeo\":[{\"marker\":{\"colorbar\":{\"outlinewidth\":0,\"ticks\":\"\"}},\"type\":\"scattergeo\"}],\"scattergl\":[{\"marker\":{\"line\":{\"color\":\"#283442\"}},\"type\":\"scattergl\"}],\"scattermapbox\":[{\"marker\":{\"colorbar\":{\"outlinewidth\":0,\"ticks\":\"\"}},\"type\":\"scattermapbox\"}],\"scatterpolargl\":[{\"marker\":{\"colorbar\":{\"outlinewidth\":0,\"ticks\":\"\"}},\"type\":\"scatterpolargl\"}],\"scatterpolar\":[{\"marker\":{\"colorbar\":{\"outlinewidth\":0,\"ticks\":\"\"}},\"type\":\"scatterpolar\"}],\"scatter\":[{\"marker\":{\"line\":{\"color\":\"#283442\"}},\"type\":\"scatter\"}],\"scatterternary\":[{\"marker\":{\"colorbar\":{\"outlinewidth\":0,\"ticks\":\"\"}},\"type\":\"scatterternary\"}],\"surface\":[{\"colorbar\":{\"outlinewidth\":0,\"ticks\":\"\"},\"colorscale\":[[0.0,\"#0d0887\"],[0.1111111111111111,\"#46039f\"],[0.2222222222222222,\"#7201a8\"],[0.3333333333333333,\"#9c179e\"],[0.4444444444444444,\"#bd3786\"],[0.5555555555555556,\"#d8576b\"],[0.6666666666666666,\"#ed7953\"],[0.7777777777777778,\"#fb9f3a\"],[0.8888888888888888,\"#fdca26\"],[1.0,\"#f0f921\"]],\"type\":\"surface\"}],\"table\":[{\"cells\":{\"fill\":{\"color\":\"#506784\"},\"line\":{\"color\":\"rgb(17,17,17)\"}},\"header\":{\"fill\":{\"color\":\"#2a3f5f\"},\"line\":{\"color\":\"rgb(17,17,17)\"}},\"type\":\"table\"}]},\"layout\":{\"annotationdefaults\":{\"arrowcolor\":\"#f2f5fa\",\"arrowhead\":0,\"arrowwidth\":1},\"autotypenumbers\":\"strict\",\"coloraxis\":{\"colorbar\":{\"outlinewidth\":0,\"ticks\":\"\"}},\"colorscale\":{\"diverging\":[[0,\"#8e0152\"],[0.1,\"#c51b7d\"],[0.2,\"#de77ae\"],[0.3,\"#f1b6da\"],[0.4,\"#fde0ef\"],[0.5,\"#f7f7f7\"],[0.6,\"#e6f5d0\"],[0.7,\"#b8e186\"],[0.8,\"#7fbc41\"],[0.9,\"#4d9221\"],[1,\"#276419\"]],\"sequential\":[[0.0,\"#0d0887\"],[0.1111111111111111,\"#46039f\"],[0.2222222222222222,\"#7201a8\"],[0.3333333333333333,\"#9c179e\"],[0.4444444444444444,\"#bd3786\"],[0.5555555555555556,\"#d8576b\"],[0.6666666666666666,\"#ed7953\"],[0.7777777777777778,\"#fb9f3a\"],[0.8888888888888888,\"#fdca26\"],[1.0,\"#f0f921\"]],\"sequentialminus\":[[0.0,\"#0d0887\"],[0.1111111111111111,\"#46039f\"],[0.2222222222222222,\"#7201a8\"],[0.3333333333333333,\"#9c179e\"],[0.4444444444444444,\"#bd3786\"],[0.5555555555555556,\"#d8576b\"],[0.6666666666666666,\"#ed7953\"],[0.7777777777777778,\"#fb9f3a\"],[0.8888888888888888,\"#fdca26\"],[1.0,\"#f0f921\"]]},\"colorway\":[\"#636efa\",\"#EF553B\",\"#00cc96\",\"#ab63fa\",\"#FFA15A\",\"#19d3f3\",\"#FF6692\",\"#B6E880\",\"#FF97FF\",\"#FECB52\"],\"font\":{\"color\":\"#f2f5fa\"},\"geo\":{\"bgcolor\":\"rgb(17,17,17)\",\"lakecolor\":\"rgb(17,17,17)\",\"landcolor\":\"rgb(17,17,17)\",\"showlakes\":true,\"showland\":true,\"subunitcolor\":\"#506784\"},\"hoverlabel\":{\"align\":\"left\"},\"hovermode\":\"closest\",\"mapbox\":{\"style\":\"dark\"},\"paper_bgcolor\":\"rgb(17,17,17)\",\"plot_bgcolor\":\"rgb(17,17,17)\",\"polar\":{\"angularaxis\":{\"gridcolor\":\"#506784\",\"linecolor\":\"#506784\",\"ticks\":\"\"},\"bgcolor\":\"rgb(17,17,17)\",\"radialaxis\":{\"gridcolor\":\"#506784\",\"linecolor\":\"#506784\",\"ticks\":\"\"}},\"scene\":{\"xaxis\":{\"backgroundcolor\":\"rgb(17,17,17)\",\"gridcolor\":\"#506784\",\"gridwidth\":2,\"linecolor\":\"#506784\",\"showbackground\":true,\"ticks\":\"\",\"zerolinecolor\":\"#C8D4E3\"},\"yaxis\":{\"backgroundcolor\":\"rgb(17,17,17)\",\"gridcolor\":\"#506784\",\"gridwidth\":2,\"linecolor\":\"#506784\",\"showbackground\":true,\"ticks\":\"\",\"zerolinecolor\":\"#C8D4E3\"},\"zaxis\":{\"backgroundcolor\":\"rgb(17,17,17)\",\"gridcolor\":\"#506784\",\"gridwidth\":2,\"linecolor\":\"#506784\",\"showbackground\":true,\"ticks\":\"\",\"zerolinecolor\":\"#C8D4E3\"}},\"shapedefaults\":{\"line\":{\"color\":\"#f2f5fa\"}},\"sliderdefaults\":{\"bgcolor\":\"#C8D4E3\",\"bordercolor\":\"rgb(17,17,17)\",\"borderwidth\":1,\"tickwidth\":0},\"ternary\":{\"aaxis\":{\"gridcolor\":\"#506784\",\"linecolor\":\"#506784\",\"ticks\":\"\"},\"baxis\":{\"gridcolor\":\"#506784\",\"linecolor\":\"#506784\",\"ticks\":\"\"},\"bgcolor\":\"rgb(17,17,17)\",\"caxis\":{\"gridcolor\":\"#506784\",\"linecolor\":\"#506784\",\"ticks\":\"\"}},\"title\":{\"x\":0.05},\"updatemenudefaults\":{\"bgcolor\":\"#506784\",\"borderwidth\":0},\"xaxis\":{\"automargin\":true,\"gridcolor\":\"#283442\",\"linecolor\":\"#506784\",\"ticks\":\"\",\"title\":{\"standoff\":15},\"zerolinecolor\":\"#283442\",\"zerolinewidth\":2},\"yaxis\":{\"automargin\":true,\"gridcolor\":\"#283442\",\"linecolor\":\"#506784\",\"ticks\":\"\",\"title\":{\"standoff\":15},\"zerolinecolor\":\"#283442\",\"zerolinewidth\":2}}},\"xaxis\":{\"anchor\":\"y\",\"domain\":[0.0,1.0],\"title\":{\"text\":\"Year\"}},\"yaxis\":{\"anchor\":\"x\",\"domain\":[0.0,1.0],\"title\":{\"text\":\"Number of Grants\"}},\"legend\":{\"tracegroupgap\":0},\"title\":{\"text\":\"Grants per Year\"},\"font\":{\"color\":\"white\"},\"plot_bgcolor\":\"#1e1e1e\",\"paper_bgcolor\":\"#1e1e1e\"},                        {\"responsive\": true}                    ).then(function(){\n",
       "                            \n",
       "var gd = document.getElementById('24130483-dfd2-4121-becc-d463d591a6d5');\n",
       "var x = new MutationObserver(function (mutations, observer) {{\n",
       "        var display = window.getComputedStyle(gd).display;\n",
       "        if (!display || display === 'none') {{\n",
       "            console.log([gd, 'removed!']);\n",
       "            Plotly.purge(gd);\n",
       "            observer.disconnect();\n",
       "        }}\n",
       "}});\n",
       "\n",
       "// Listen for the removal of the full notebook cells\n",
       "var notebookContainer = gd.closest('#notebook-container');\n",
       "if (notebookContainer) {{\n",
       "    x.observe(notebookContainer, {childList: true});\n",
       "}}\n",
       "\n",
       "// Listen for the clearing of the current output cell\n",
       "var outputEl = gd.closest('.output');\n",
       "if (outputEl) {{\n",
       "    x.observe(outputEl, {childList: true});\n",
       "}}\n",
       "\n",
       "                        })                };                });            </script>        </div>"
      ]
     },
     "metadata": {},
     "output_type": "display_data"
    }
   ],
   "source": [
    "# Visualization: University count distribution\n",
    "fig_university_count = px.histogram(\n",
    "    df,\n",
    "    x='university_count',\n",
    "    title='Distribution of University Count per Writer',\n",
    "    labels={'university_count': 'Number of Universities'},\n",
    "    nbins=10,\n",
    "    template='plotly_dark'\n",
    ")\n",
    "fig_university_count.update_layout(\n",
    "    plot_bgcolor='#1e1e1e',\n",
    "    paper_bgcolor='#1e1e1e',\n",
    "    font_color='white'\n",
    ")\n",
    "\n",
    "# Visualization: University count vs. grant count\n",
    "fig_university_vs_grant = px.bar(\n",
    "    df.groupby('university_count').size().reset_index(name='grant_count'),\n",
    "    x='university_count',\n",
    "    y='grant_count',\n",
    "    title='University Count vs. Grant Count',\n",
    "    labels={\n",
    "        'university_count': 'Number of Universities',\n",
    "        'grant_count': 'Number of Grants'\n",
    "    },\n",
    "    template='plotly_dark'\n",
    ")\n",
    "fig_university_vs_grant.update_layout(\n",
    "    plot_bgcolor='#1e1e1e',\n",
    "    paper_bgcolor='#1e1e1e',\n",
    "    font_color='white'\n",
    ")\n",
    "\n",
    "# Visualization: Histogram\n",
    "fig_histogram = px.histogram(\n",
    "    df,\n",
    "    x='age of writer',\n",
    "    color='age_group',\n",
    "    title='Distribution of Writers by Age at Time of Grant',\n",
    "    labels={'age of writer': 'Age of Writer'},\n",
    "    nbins=20,\n",
    "    template='plotly_dark'\n",
    ")\n",
    "fig_histogram.update_layout(\n",
    "    plot_bgcolor='#1e1e1e',\n",
    "    paper_bgcolor='#1e1e1e',\n",
    "    font_color='white'\n",
    ")\n",
    "\n",
    "# visualization: Age group distribution\n",
    "fig_pie = px.pie(\n",
    "    df,\n",
    "    names='age_group',\n",
    "    title='Age Group Distribution of Writers',\n",
    "    template='plotly_dark'\n",
    ")\n",
    "fig_pie.update_layout(\n",
    "    plot_bgcolor='#1e1e1e',\n",
    "    paper_bgcolor='#1e1e1e',\n",
    "    font_color='white'\n",
    ")\n",
    "\n",
    "# Visualization: Grants by State (Map)\n",
    "fig_map = px.choropleth(\n",
    "    grants_by_state,\n",
    "    locations='us_state',\n",
    "    locationmode='USA-states',\n",
    "    color='grant_count',\n",
    "    color_continuous_scale='Viridis',\n",
    "    scope='usa',\n",
    "    title='Grants by State'\n",
    ")\n",
    "fig_map.update_layout(\n",
    "    plot_bgcolor='#1e1e1e',\n",
    "    paper_bgcolor='#1e1e1e',\n",
    "    font_color='white'\n",
    ")\n",
    "\n",
    "# Visualization: Writers by Hometown (Bar Chart)\n",
    "fig_hometown = px.bar(\n",
    "    writers_by_hometown.iloc[1:11],\n",
    "    x='hometown',\n",
    "    y='writer_count',\n",
    "    title='Top 10 Hometowns of Writers',\n",
    "    labels={\n",
    "        'hometown': 'Hometown',\n",
    "        'writer_count': 'Writer Count'\n",
    "    },\n",
    "    template='plotly_dark'\n",
    ")\n",
    "fig_hometown.update_layout(\n",
    "    plot_bgcolor='#1e1e1e',\n",
    "    paper_bgcolor='#1e1e1e',\n",
    "    font_color='white'\n",
    ")\n",
    "\n",
    "# Visualization: Writers by Hometown (Map)\n",
    "fig_hometown_map = px.scatter_geo(\n",
    "    writers_by_hometown_map,\n",
    "    lat='latitude',\n",
    "    lon='longitude',\n",
    "    size='writer_count',\n",
    "    hover_name='hometown',\n",
    "    title='Writers by Hometown (Map)',\n",
    "    template='plotly_dark'\n",
    ")\n",
    "fig_hometown_map.update_layout(\n",
    "    geo=dict(\n",
    "        showland=True,\n",
    "        landcolor='#1e1e1e',\n",
    "        showocean=True,\n",
    "        oceancolor='#000033',\n",
    "        projection_type='natural earth'\n",
    "    ),\n",
    "    plot_bgcolor='#1e1e1e',\n",
    "    paper_bgcolor='#1e1e1e',\n",
    "    font_color='white'\n",
    ")\n",
    "\n",
    "# Visualization: Grants per year\n",
    "fig_grants_per_year = px.line(\n",
    "    grants_per_year,\n",
    "    x='nea_grant_year',\n",
    "    y='grant_count',\n",
    "    title='Grants per Year',\n",
    "    labels={\n",
    "        'nea_grant_year': 'Year',\n",
    "        'grant_count': 'Number of Grants'\n",
    "    },\n",
    "    template='plotly_dark'\n",
    ")\n",
    "fig_grants_per_year.update_layout(\n",
    "    plot_bgcolor='#1e1e1e',\n",
    "    paper_bgcolor='#1e1e1e',\n",
    "    font_color='white'\n",
    ")"
   ]
  },
  {
   "cell_type": "code",
   "execution_count": 23,
   "id": "6fe30229-a174-4e60-ba14-cf4d997c2e45",
   "metadata": {},
   "outputs": [
    {
     "data": {
      "text/html": [
       "\n",
       "        <iframe\n",
       "            width=\"100%\"\n",
       "            height=\"650\"\n",
       "            src=\"http://127.0.0.1:8050/\"\n",
       "            frameborder=\"0\"\n",
       "            allowfullscreen\n",
       "            \n",
       "        ></iframe>\n",
       "        "
      ],
      "text/plain": [
       "<IPython.lib.display.IFrame at 0x23080c1f9b0>"
      ]
     },
     "metadata": {},
     "output_type": "display_data"
    }
   ],
   "source": [
    "# Create a Dash app\n",
    "app = Dash()\n",
    "\n",
    "grid = dag.AgGrid(\n",
    "    rowData=df.to_dict(\"records\"),\n",
    "    columnDefs=[{\"field\": i} for i in df.columns],\n",
    "    dashGridOptions={\"pagination\": True}\n",
    ")\n",
    "\n",
    "app.layout = html.Div([\n",
    "    grid,\n",
    "    dcc.Graph(figure=fig_histogram),\n",
    "    dcc.Graph(figure=fig_pie),\n",
    "    dcc.Graph(figure=fig_university_count),\n",
    "    dcc.Graph(figure=fig_university_vs_grant),\n",
    "    dcc.Graph(figure=fig_map),\n",
    "    dcc.Graph(figure=fig_hometown),\n",
    "    dcc.Graph(figure=fig_hometown_map),\n",
    "    dcc.Graph(figure=fig_grants_per_year)\n",
    "])\n",
    "\n",
    "if __name__ == \"__main__\":\n",
    "    app.run_server(debug=True)"
   ]
  },
  {
   "cell_type": "code",
   "execution_count": null,
   "id": "49b1334a-90b0-4cb8-832b-31d087ba2a3e",
   "metadata": {},
   "outputs": [],
   "source": []
  },
  {
   "cell_type": "code",
   "execution_count": null,
   "id": "e6a4f8f8-2ab6-468a-b025-ac19d2f2288c",
   "metadata": {},
   "outputs": [],
   "source": []
  },
  {
   "cell_type": "code",
   "execution_count": null,
   "id": "b56b716c-0cf7-4aa1-9ef8-98adcf0e2f5c",
   "metadata": {},
   "outputs": [],
   "source": []
  },
  {
   "cell_type": "code",
   "execution_count": null,
   "id": "e7701815-17ba-4666-9597-5cbaceb987db",
   "metadata": {},
   "outputs": [],
   "source": []
  },
  {
   "cell_type": "code",
   "execution_count": null,
   "id": "8a28fb0e-6a66-4df3-acd7-7518ae2a818e",
   "metadata": {},
   "outputs": [],
   "source": []
  },
  {
   "cell_type": "code",
   "execution_count": null,
   "id": "cf57a167-16ed-4c15-b0f2-d697b7276e42",
   "metadata": {},
   "outputs": [],
   "source": []
  },
  {
   "cell_type": "code",
   "execution_count": null,
   "id": "6c2be6d3-3b97-47a4-bb1a-e1572ea9f63a",
   "metadata": {},
   "outputs": [],
   "source": []
  },
  {
   "cell_type": "code",
   "execution_count": null,
   "id": "33b65eb5-4b40-46e3-bd19-1a7a250f86b1",
   "metadata": {},
   "outputs": [],
   "source": []
  },
  {
   "cell_type": "code",
   "execution_count": null,
   "id": "0adb4932-b48b-4272-a392-5248094b8d58",
   "metadata": {},
   "outputs": [],
   "source": []
  },
  {
   "cell_type": "code",
   "execution_count": null,
   "id": "3c457aa2-a4cc-475c-a834-e4c8b4902350",
   "metadata": {},
   "outputs": [],
   "source": []
  },
  {
   "cell_type": "code",
   "execution_count": null,
   "id": "53d962c1-3d39-4416-b3dd-e6aa0175589e",
   "metadata": {},
   "outputs": [],
   "source": []
  },
  {
   "cell_type": "code",
   "execution_count": null,
   "id": "39195c57-bfd0-4cb5-82b4-995a287a85fe",
   "metadata": {},
   "outputs": [],
   "source": []
  },
  {
   "cell_type": "code",
   "execution_count": null,
   "id": "289b9ccc-a859-4a43-86d6-8903fbc6c859",
   "metadata": {},
   "outputs": [],
   "source": []
  },
  {
   "cell_type": "code",
   "execution_count": null,
   "id": "4861181f-8d0d-4baf-8274-0a517a3ae2af",
   "metadata": {},
   "outputs": [],
   "source": []
  },
  {
   "cell_type": "code",
   "execution_count": null,
   "id": "2ab10c4c-b65d-47c0-bcd5-154ac3e712ae",
   "metadata": {},
   "outputs": [],
   "source": []
  },
  {
   "cell_type": "code",
   "execution_count": null,
   "id": "065db408-1dda-45d9-83dd-bf8a12d6e8b2",
   "metadata": {},
   "outputs": [],
   "source": []
  },
  {
   "cell_type": "code",
   "execution_count": null,
   "id": "e99d025a-87b1-4186-8dd6-c9a6f18a197e",
   "metadata": {},
   "outputs": [],
   "source": []
  },
  {
   "cell_type": "code",
   "execution_count": null,
   "id": "e70476b2-6b08-49b4-b80c-8b41783b59fc",
   "metadata": {},
   "outputs": [],
   "source": []
  },
  {
   "cell_type": "code",
   "execution_count": null,
   "id": "fd9565d7-2ce3-45dd-ac36-5515f173b00b",
   "metadata": {},
   "outputs": [],
   "source": []
  },
  {
   "cell_type": "code",
   "execution_count": null,
   "id": "c3dab09e-10e9-4fd5-873e-83b2788c08ea",
   "metadata": {},
   "outputs": [],
   "source": []
  },
  {
   "cell_type": "code",
   "execution_count": null,
   "id": "0d97b095-f2cc-4bf5-8152-52c26483ffed",
   "metadata": {},
   "outputs": [],
   "source": []
  },
  {
   "cell_type": "code",
   "execution_count": null,
   "id": "5ee8cbfd-87ef-4e6f-9c99-5d5bdc084044",
   "metadata": {},
   "outputs": [],
   "source": []
  },
  {
   "cell_type": "code",
   "execution_count": null,
   "id": "b80f18f6-4cd4-4f70-a71c-17c523e09f4e",
   "metadata": {},
   "outputs": [],
   "source": []
  },
  {
   "cell_type": "code",
   "execution_count": null,
   "id": "f945211f-ee9f-40b6-a820-b377962dfe87",
   "metadata": {},
   "outputs": [],
   "source": []
  }
 ],
 "metadata": {
  "kernelspec": {
   "display_name": "Python 3 (ipykernel)",
   "language": "python",
   "name": "python3"
  },
  "language_info": {
   "codemirror_mode": {
    "name": "ipython",
    "version": 3
   },
   "file_extension": ".py",
   "mimetype": "text/x-python",
   "name": "python",
   "nbconvert_exporter": "python",
   "pygments_lexer": "ipython3",
   "version": "3.12.7"
  }
 },
 "nbformat": 4,
 "nbformat_minor": 5
}
